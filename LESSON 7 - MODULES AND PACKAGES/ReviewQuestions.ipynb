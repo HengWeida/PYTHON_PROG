{
 "cells": [
  {
   "cell_type": "code",
   "execution_count": 1,
   "id": "e99c026d-f0c8-4cff-a9a6-639a4bc6cf75",
   "metadata": {},
   "outputs": [
    {
     "name": "stdout",
     "output_type": "stream",
     "text": [
      "Writing greeter.py\n"
     ]
    }
   ],
   "source": [
    "%%writefile greeter.py\n",
    "\n",
    "def greet(name):\n",
    "    print(f\"Hello {name}!\")\n"
   ]
  },
  {
   "cell_type": "code",
   "execution_count": 2,
   "id": "c63861ca-2b59-4fc0-9f2e-d05097201076",
   "metadata": {},
   "outputs": [
    {
     "name": "stdout",
     "output_type": "stream",
     "text": [
      "Writing main.py\n"
     ]
    }
   ],
   "source": [
    "%%writefile main.py\n",
    "\n",
    "from greeter import greet\n",
    "\n",
    "greet(\"REAL PYTHON\")"
   ]
  },
  {
   "cell_type": "code",
   "execution_count": 3,
   "id": "d5806b70-b6c7-4a1c-ab8a-96c2a0e2d310",
   "metadata": {},
   "outputs": [
    {
     "name": "stdout",
     "output_type": "stream",
     "text": [
      "Hello REAL PYTHON!\n"
     ]
    }
   ],
   "source": [
    "!python main.py"
   ]
  },
  {
   "cell_type": "code",
   "execution_count": null,
   "id": "d9dcca75-5464-4898-b7f5-8bea842018fb",
   "metadata": {},
   "outputs": [],
   "source": []
  }
 ],
 "metadata": {
  "kernelspec": {
   "display_name": "Python [conda env:base] *",
   "language": "python",
   "name": "conda-base-py"
  },
  "language_info": {
   "codemirror_mode": {
    "name": "ipython",
    "version": 3
   },
   "file_extension": ".py",
   "mimetype": "text/x-python",
   "name": "python",
   "nbconvert_exporter": "python",
   "pygments_lexer": "ipython3",
   "version": "3.13.5"
  }
 },
 "nbformat": 4,
 "nbformat_minor": 5
}
