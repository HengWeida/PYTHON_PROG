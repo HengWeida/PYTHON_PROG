{
 "cells": [
  {
   "cell_type": "markdown",
   "id": "e983fce7-0188-4667-8f05-dc2525428fdd",
   "metadata": {},
   "source": [
    "# 1st Long Exam  09/10/25"
   ]
  },
  {
   "cell_type": "markdown",
   "id": "bba8826e-e349-4928-8117-03454048ae18",
   "metadata": {},
   "source": [
    "# Sergio Jr. Neri ID:23833353\n"
   ]
  },
  {
   "cell_type": "code",
   "execution_count": 2,
   "id": "9a5d7f43-4906-4d39-88d4-fd4015183608",
   "metadata": {},
   "outputs": [
    {
     "name": "stdin",
     "output_type": "stream",
     "text": [
      "Please enter your name:  Neri\n"
     ]
    },
    {
     "name": "stdout",
     "output_type": "stream",
     "text": [
      "Hello  Neri  !\n"
     ]
    }
   ],
   "source": [
    "name = (input(\"Please enter your name: \"))\n",
    "print(\"Hello \", name ,\" !\")"
   ]
  },
  {
   "cell_type": "code",
   "execution_count": 10,
   "id": "aeba008a-8bd4-4a2c-b575-12a408661138",
   "metadata": {},
   "outputs": [
    {
     "name": "stdin",
     "output_type": "stream",
     "text": [
      "Enter a positive number:  5\n"
     ]
    },
    {
     "name": "stdout",
     "output_type": "stream",
     "text": [
      "The sum is :   15.0\n"
     ]
    },
    {
     "name": "stdin",
     "output_type": "stream",
     "text": [
      "Enter a positive number:  -1\n"
     ]
    }
   ],
   "source": [
    "for n in (1,10):\n",
    "    num = int(input(\"Enter a positive number: \"))\n",
    "    if (num > 0):\n",
    "        sum = num * (num + 1) / 2\n",
    "        print (\"The sum is :  \", sum)"
   ]
  },
  {
   "cell_type": "code",
   "execution_count": 13,
   "id": "c663c81f-1519-4b2c-aaa8-a7d38a397b67",
   "metadata": {},
   "outputs": [
    {
     "ename": "SyntaxError",
     "evalue": "invalid syntax (352321902.py, line 2)",
     "output_type": "error",
     "traceback": [
      "\u001b[1;36m  Cell \u001b[1;32mIn[13], line 2\u001b[1;36m\u001b[0m\n\u001b[1;33m    if(l == \"A\"||\"a\"||\"E\"||\"e\"||\"I\"||\"i\"||\"O\"||\"o\"||\"U\"||\"u\"):\u001b[0m\n\u001b[1;37m                ^\u001b[0m\n\u001b[1;31mSyntaxError\u001b[0m\u001b[1;31m:\u001b[0m invalid syntax\n"
     ]
    }
   ],
   "source": [
    "l = input(\"Enter a letter: \")\n",
    "if(l == \"A\"||\"a\"||\"E\"||\"e\"||\"I\"||\"i\"||\"O\"||\"o\"||\"U\"||\"u\"):\n",
    "    print(\"You entered a Vowel!\")\n",
    "elif (l == \"Y\" || \"y\"):\n",
    "    print(\"Sometimes i is a vowel, and sometimes y is a consonant!\")\n",
    "else\n",
    "    print(\"You entered a consonant!\")"
   ]
  },
  {
   "cell_type": "code",
   "execution_count": null,
   "id": "9e365b9f-9c32-43c6-9cdf-15e6225775aa",
   "metadata": {},
   "outputs": [],
   "source": []
  }
 ],
 "metadata": {
  "kernelspec": {
   "display_name": "Python 3 (ipykernel)",
   "language": "python",
   "name": "python3"
  },
  "language_info": {
   "codemirror_mode": {
    "name": "ipython",
    "version": 3
   },
   "file_extension": ".py",
   "mimetype": "text/x-python",
   "name": "python",
   "nbconvert_exporter": "python",
   "pygments_lexer": "ipython3",
   "version": "3.13.5"
  }
 },
 "nbformat": 4,
 "nbformat_minor": 5
}
