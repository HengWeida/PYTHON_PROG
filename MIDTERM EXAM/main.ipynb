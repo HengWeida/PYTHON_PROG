{
 "cells": [
  {
   "cell_type": "markdown",
   "id": "804c1fea-d131-4ab6-9416-428c88cb3c82",
   "metadata": {},
   "source": [
    "# Midterm Exam"
   ]
  },
  {
   "cell_type": "markdown",
   "id": "fd7afc26-a042-476a-943c-3db307997b04",
   "metadata": {},
   "source": [
    "# Q1"
   ]
  },
  {
   "cell_type": "markdown",
   "id": "ff5e3ab1-b435-4c06-a320-930eff77e0b2",
   "metadata": {},
   "source": [
    "Task: Write a function normalize_and_find(text:\n",
    "str, needle: str) -> int that: (1) trims whitespace on both ends, (2) converts\n",
    "to lowercase, then (3) returns the index of the first occurrence of needle using\n",
    "a safe search (return −1 if not found). Discuss alternatives (find vs. index), and\n",
    "how your choice affects error handling. Anchor concepts: stripping, case conversion,\n",
    "find/replace, string immutability. Reference: Lesson 1 (Strings & User Interaction), Lesson 5 (Immutable Sequences)."
   ]
  },
  {
   "cell_type": "markdown",
   "id": "cf225de0-ebde-447a-b4d0-c9e60c37bb10",
   "metadata": {},
   "source": [
    "# Prompt"
   ]
  },
  {
   "cell_type": "markdown",
   "id": "d0e4bb39-3f16-495a-afb1-9e04980e5cb7",
   "metadata": {},
   "source": [
    "Write a Python function normalize_and_find(text, needle) that strips leading/trailing whitespace from text, converts to lowercase, and returns the first index of needle or −1 if not found. Use a safe search method (find vs. index)."
   ]
  },
  {
   "cell_type": "markdown",
   "id": "0205c22e-ac72-45b7-8110-9643a795f91a",
   "metadata": {},
   "source": [
    "# Chat Gpt Code"
   ]
  },
  {
   "cell_type": "code",
   "execution_count": 1,
   "id": "7415c217-d748-49df-8631-9505f0ffa5a0",
   "metadata": {},
   "outputs": [
    {
     "name": "stdout",
     "output_type": "stream",
     "text": [
      "6\n",
      "-1\n"
     ]
    }
   ],
   "source": [
    "def normalize_and_find(text, needle):\n",
    "    s = text.strip().lower()\n",
    "    return s.find(needle)\n",
    "\n",
    "# --- Testing ---\n",
    "print(normalize_and_find(\"  Hello World  \", \"world\"))\n",
    "print(normalize_and_find(\"Test\", \"X\"))"
   ]
  },
  {
   "cell_type": "markdown",
   "id": "27655b15-2280-4af5-9f8e-fc44e0ec1ef0",
   "metadata": {},
   "source": [
    "# Critique"
   ]
  },
  {
   "cell_type": "markdown",
   "id": "31abf223-3be2-4afb-af6d-a25690ca7e39",
   "metadata": {},
   "source": [
    "Correctness:\n",
    "Counts as logically correct for simple lowercase matches. However, it only lowercases text, not needle, so mixed-case inputs like \"Hello\", \"HEL\" would fail. Expected output should be case-insensitive, so both sides should be normalized. The behavior otherwise matches the stated steps (strip → lowercase → find).\n",
    "\n",
    "Complexity:\n",
    "The function performs two linear operations: .strip() (O(n)) and .find() (O(n)), yielding O(n) overall time with O(n) extra space due to string immutability (each operation returns a new string). This is the optimal cost for single-pass substring search on Python strings.\n",
    "\n",
    "Robustness:\n",
    "Works for empty strings: normalize_and_find(\"\", \"\") safely returns 0 (by .find definition). Handles punctuation and spaces properly. Doesn’t guard against None or non-string inputs—acceptable per spec. Uses .find() rather than .index(), thus avoids ValueError exceptions on missing substrings.\n",
    "\n",
    "Readability / Style:\n",
    "Code is concise but lacks documentation and descriptive names. Replace s with a clearer variable (e.g., normalized_text). Add type hints and a docstring. Otherwise PEP 8 compliant—spaces around = and consistent indentation.\n",
    "\n",
    "Faithfulness:\n",
    "Lesson 1 (Strings & User Interaction): Demonstrates .strip() and .lower() exactly as presented under “string methods” and “case conversion.”\n",
    "Lesson 1: Employs .find() rather than .index(), consistent with the lecture’s distinction between safe search (returns −1) and exception-based search.\n",
    "Lesson 5 (Immutable Sequences): Behavior reflects that strings are immutable—each normalization step returns a new object, aligning with the immutability discussion in the sequences lecture."
   ]
  },
  {
   "cell_type": "markdown",
   "id": "250d39db-9762-410b-bb20-f602f78a3f68",
   "metadata": {},
   "source": [
    "# Improved Code"
   ]
  },
  {
   "cell_type": "code",
   "execution_count": 2,
   "id": "dcc9be67-deb7-4af8-9c91-6cb8f02a7e8f",
   "metadata": {},
   "outputs": [
    {
     "name": "stdout",
     "output_type": "stream",
     "text": [
      "6\n",
      "-1\n",
      "0\n",
      "0\n"
     ]
    }
   ],
   "source": [
    "def normalize_and_find(text: str, needle: str) -> int:\n",
    "    \"\"\"\n",
    "    Trim whitespace, convert to lowercase, and return the first index\n",
    "    of `needle` in `text`. Returns -1 if not found.\n",
    "    \"\"\"\n",
    "    normalized_text = text.strip().lower()\n",
    "    normalized_needle = needle.lower()\n",
    "    return normalized_text.find(normalized_needle)\n",
    "\n",
    "# --- Testing ---\n",
    "print(normalize_and_find(\"  Hello World  \", \"world\"))\n",
    "print(normalize_and_find(\"Test\", \"X\"))\n",
    "print(normalize_and_find(\"\", \"\"))\n",
    "print(normalize_and_find(\"   MixedCase  \", \"mixed\"))\n"
   ]
  },
  {
   "cell_type": "markdown",
   "id": "5568ae11-262b-472f-922f-78bb773a778c",
   "metadata": {},
   "source": [
    "# Q2"
   ]
  },
  {
   "cell_type": "markdown",
   "id": "ec85e13e-a854-4d1f-b981-ecf94d3adb27",
   "metadata": {},
   "source": [
    "Task: Generalize our leetspeak idea: write translate(text:\n",
    "str, mapping: dict[str,str]) -> str that applies a mapping (e.g., {’a’:’4’,’e’:’3’,...})\n",
    "over lowercase letters only, leaving others unchanged. Explain why strings are immutable\n",
    "and show an efficient approach (e.g., list join vs. repeated concatenation).\n",
    "Anchor concepts: replace, iteration strategies, efficiency. Reference: Lesson 1 (Strings & User Interaction), Lesson 3 (Functions & Loops), Lesson 5 (Tuples, Lists & Dictionaries — immutability)."
   ]
  },
  {
   "cell_type": "markdown",
   "id": "32597c1f-d55c-41a0-81b3-5c0c8db38c7a",
   "metadata": {},
   "source": [
    "# Prompt"
   ]
  },
  {
   "cell_type": "markdown",
   "id": "50b4ad82-8557-47f3-9865-0012ad016508",
   "metadata": {},
   "source": [
    "Write a Python function translate(text, mapping) that replaces lowercase letters according to a given dictionary (e.g., {'a':'4','e':'3'}) and leaves all other characters unchanged.\n",
    "Ensure the approach is efficient—avoid repeated string concatenation."
   ]
  },
  {
   "cell_type": "markdown",
   "id": "1dc60819-4101-4a7a-b9f1-d96c1249d215",
   "metadata": {},
   "source": [
    "# Chat Gpt Code"
   ]
  },
  {
   "cell_type": "code",
   "execution_count": 3,
   "id": "bf97314d-9ba8-4baa-b838-a447bed3fbfe",
   "metadata": {},
   "outputs": [
    {
     "name": "stdout",
     "output_type": "stream",
     "text": [
      "L33t t3st!\n"
     ]
    }
   ],
   "source": [
    "def translate(text, mapping):\n",
    "    result = \"\"\n",
    "    for ch in text:\n",
    "        if ch.islower() and ch in mapping:\n",
    "            result += mapping[ch]\n",
    "        else:\n",
    "            result += ch\n",
    "    return result\n",
    "\n",
    "# --- Testing ---\n",
    "leet_map = {'a': '4', 'e': '3'}\n",
    "print(translate(\"Leet test!\", leet_map))\n"
   ]
  },
  {
   "cell_type": "markdown",
   "id": "84ecbbeb-c8f5-460c-888c-6f698252984f",
   "metadata": {},
   "source": [
    "# Critique"
   ]
  },
  {
   "cell_type": "markdown",
   "id": "18a96be7-7b74-4a4e-9f8b-2efa638bbc38",
   "metadata": {},
   "source": [
    "Correctness:\n",
    "Functionally correct—it substitutes mapped lowercase characters and leaves others intact.\n",
    "However, the specification asks for an efficient approach; this code uses repeated string concatenation (result += ...), which creates a new string object each time because strings are immutable. This causes O(n²) performance in worst-case scenarios.\n",
    "\n",
    "Complexity:\n",
    "Time: Each concatenation copies the current string → O(n²) total.\n",
    "Space: Creates intermediate strings with each concatenation; inefficient but manageable for small inputs.\n",
    "Optimal solution should use a list accumulator and ''.join() for O(n) efficiency.\n",
    "\n",
    "Robustness:\n",
    "Handles empty strings, mixed-case text, and unmapped characters safely.\n",
    "Assumes mapping keys are lowercase single characters (per spec).\n",
    "Could optionally validate mapping keys and values for clarity but not required here.\n",
    "\n",
    "Readability / Style:\n",
    "Readable structure and correct use of control flow.\n",
    "Minor improvements: type hints, descriptive variable names, docstring, and consistent naming for clarity.\n",
    "Code style aligns mostly with PEP 8, though function lacks documentation.\n",
    "\n",
    "Faithfulness:\n",
    "Lesson 1 (Strings & Input): Demonstrates character iteration and .islower() for filtering lowercase letters, matching early exercises on string traversal.\n",
    "Lesson 3 (Functions & Loops): Uses a for loop to build results iteratively—directly from lessons on iteration strategies.\n",
    "Lesson 5 (Tuples, Lists & Dictionaries): Explains efficiency concerns due to string immutability; improved version applies the list + join technique introduced in this lesson for efficient concatenation."
   ]
  },
  {
   "cell_type": "markdown",
   "id": "a72d633c-b9d5-49c1-a91d-c14b9bd6e991",
   "metadata": {},
   "source": [
    "# Improved Code"
   ]
  },
  {
   "cell_type": "code",
   "execution_count": 4,
   "id": "b106ae5d-130d-4c54-a123-5c9075143760",
   "metadata": {},
   "outputs": [
    {
     "name": "stdout",
     "output_type": "stream",
     "text": [
      "L337 7357!\n",
      "A m4n, 4 p14n, 4 c4n41\n",
      "\n"
     ]
    }
   ],
   "source": [
    "from typing import Dict\n",
    "\n",
    "def translate(text: str, mapping: Dict[str, str]) -> str:\n",
    "    \"\"\"\n",
    "    Apply a leetspeak-style mapping to lowercase letters only.\n",
    "    Unmapped or non-lowercase characters are left unchanged.\n",
    "    \"\"\"\n",
    "    result_chars = []\n",
    "    for ch in text:\n",
    "        if ch.islower():\n",
    "            result_chars.append(mapping.get(ch, ch))\n",
    "        else:\n",
    "            result_chars.append(ch)\n",
    "    return \"\".join(result_chars)\n",
    "\n",
    "\n",
    "# --- Testing ---\n",
    "leet_map = {'a': '4', 'e': '3', 'l': '1', 'o': '0', 's': '5', 't': '7'}\n",
    "print(translate(\"Leet test!\", leet_map))\n",
    "print(translate(\"A man, a plan, a canal\", leet_map))\n",
    "print(translate(\"\", leet_map))\n"
   ]
  },
  {
   "cell_type": "markdown",
   "id": "4846de78-c290-4602-8572-5792cc4cc651",
   "metadata": {},
   "source": [
    "# Q3"
   ]
  },
  {
   "cell_type": "markdown",
   "id": "489c9734-1772-40d2-a849-076be6d022c3",
   "metadata": {},
   "source": [
    "Task: Write fmt_money(x: float)\n",
    "-> str that returns a string like 1,234.50 using proper rounding (banker’s rounding\n",
    "/ ties-to-even). Include test cases that demonstrate ties (e.g., 2.5, 3.5). Explain floating-point representation error and how formatting mitigates it for display. Anchor\n",
    "concepts: numbers, round, representation error, formatted printing. Reference: Lesson 2 (Numbers & Math), Lesson 1 (Formatted Output)."
   ]
  },
  {
   "cell_type": "markdown",
   "id": "aa83260d-4bf9-4a00-a27e-8ac454db2d9c",
   "metadata": {},
   "source": [
    "# Prompt"
   ]
  },
  {
   "cell_type": "markdown",
   "id": "d2d481f0-2aa4-47b6-a816-18f9a0ad51fa",
   "metadata": {},
   "source": [
    "Write a Python function fmt_money(x) that returns a string formatted with two decimal places, thousands separators, and banker’s rounding (ties-to-even). Include print or assert tests showing correct rounding of 2.5 → 2 and 3.5 → 4."
   ]
  },
  {
   "cell_type": "markdown",
   "id": "c0278122-95c0-4d7a-9b23-943fd54efb56",
   "metadata": {},
   "source": [
    "# ChatGPT Code"
   ]
  },
  {
   "cell_type": "code",
   "execution_count": 5,
   "id": "69cfed48-778a-4042-94f0-c4432a38e828",
   "metadata": {},
   "outputs": [
    {
     "name": "stdout",
     "output_type": "stream",
     "text": [
      "1,234.50\n",
      "2\n",
      "4\n"
     ]
    }
   ],
   "source": [
    "def fmt_money(x):\n",
    "    return f\"{round(x, 2):,.2f}\"\n",
    "\n",
    "print(fmt_money(1234.5))\n",
    "print(round(2.5))\n",
    "print(round(3.5))\n"
   ]
  },
  {
   "cell_type": "markdown",
   "id": "9f351927-37f9-4cd5-a519-39dba7efeaa1",
   "metadata": {},
   "source": [
    "# Critique"
   ]
  },
  {
   "cell_type": "markdown",
   "id": "06be224c-e352-4518-937d-5ca6ae7ea176",
   "metadata": {},
   "source": [
    "Correctness:\n",
    "The logic is functionally correct. Python’s built-in round() already uses banker’s rounding (ties-to-even), so 2.5 → 2 and 3.5 → 4 behave correctly. The f-string :,.2f ensures the result is formatted with commas and exactly two decimal places.\n",
    "However, no input validation or docstring is provided. It assumes x is numeric (float or int).\n",
    "\n",
    "Complexity:\n",
    "O(1) time and space—no loops or large data structures. Formatting and rounding are constant-time operations.\n",
    "\n",
    "Robustness:\n",
    "Handles positive, negative, and large values properly. Could add error handling for non-numeric input, but not strictly required by the task.\n",
    "Floating-point precision issues (e.g., fmt_money(2.675)) can lead to slight inconsistencies, but formatted rounding mitigates these visually by constraining to two decimal places.\n",
    "\n",
    "Readability / Style:\n",
    "Concise and clean, but would benefit from a docstring, type hints, and test assertions instead of ad-hoc print statements. Uses f-string formatting, which is modern and PEP 8 compliant.\n",
    "\n",
    "Faithfulness:\n",
    "Lesson 2 (Numbers & Math): Demonstrates correct use of the built-in round() and understanding of rounding mode “ties-to-even,” exactly as discussed in rounding behavior lectures.\n",
    "Lesson 1 (Strings & Output): Uses formatted string literals (f\"{x:,.2f}\") for clear numeric output.\n",
    "The mention of floating-point representation error and mitigation through formatting is consistent with the Lesson 2 discussion on “binary fractions and decimal representation.”"
   ]
  },
  {
   "cell_type": "markdown",
   "id": "3378769b-eb04-41ab-8d4e-66e63512c643",
   "metadata": {},
   "source": [
    "# Improved Code"
   ]
  },
  {
   "cell_type": "code",
   "execution_count": 6,
   "id": "10765b7e-cb7a-4898-97fe-6e094b516e01",
   "metadata": {},
   "outputs": [
    {
     "name": "stdout",
     "output_type": "stream",
     "text": [
      "1,234.50\n",
      "2\n",
      "4\n",
      "0.01\n",
      "1,000,000.01\n"
     ]
    }
   ],
   "source": [
    "def fmt_money(x: float) -> str:\n",
    "    \"\"\"Format a float with comma separators and two decimal places.\"\"\"\n",
    "    return f\"{round(x, 2):,.2f}\"\n",
    "\n",
    "# --- Testing ---\n",
    "print(fmt_money(1234.5))\n",
    "print(round(2.5))\n",
    "print(round(3.5))\n",
    "print(fmt_money(0.015))\n",
    "print(fmt_money(1000000.005))\n"
   ]
  },
  {
   "cell_type": "markdown",
   "id": "fa09ab4b-2de5-4a93-a57b-e0aadda0d72a",
   "metadata": {},
   "source": [
    "# Q4"
   ]
  },
  {
   "cell_type": "markdown",
   "id": "2c96eb59-2ccc-4dd5-ba60-0ef03cf35c6d",
   "metadata": {},
   "source": [
    "Task: Create a CLI program exponent.py that\n",
    "reads two values, validates they are numeric, handles errors gracefully (e.g., ValueError),\n",
    "and prints a ** b with clear messages. Compare using try/except vs. pre-validation\n",
    "with str.isdigit() (and why isdigit() is insufficient for negatives/floats). Anchor\n",
    "concepts: arithmetic operators, exceptions, input. Reference: Lesson 2 (Numbers & Math), Lesson 4 (Conditional Logic and Control Flow — Exception Handling)."
   ]
  },
  {
   "cell_type": "markdown",
   "id": "887967ca-ddfc-4112-bc68-e181cd5509aa",
   "metadata": {},
   "source": [
    "# Prompt"
   ]
  },
  {
   "cell_type": "markdown",
   "id": "293fcd77-6785-4992-bd9f-29638480af9d",
   "metadata": {},
   "source": [
    "Write a Python CLI program exponent.py that reads two numbers from the user (base and exponent), validates them safely using try/except, and prints the result of a ** b.\n",
    "Include helpful messages for invalid input, and explain why isdigit() is not suitable for negative or floating-point numbers."
   ]
  },
  {
   "cell_type": "markdown",
   "id": "89ebe025-954b-407c-8d59-305a2e9e191c",
   "metadata": {},
   "source": [
    "# ChatGPT Code"
   ]
  },
  {
   "cell_type": "code",
   "execution_count": 7,
   "id": "2056c07a-7057-423f-ab65-441501fdc4d7",
   "metadata": {},
   "outputs": [
    {
     "name": "stdin",
     "output_type": "stream",
     "text": [
      "Enter base:  2\n",
      "Enter exponent:  3\n"
     ]
    },
    {
     "name": "stdout",
     "output_type": "stream",
     "text": [
      "8.0\n"
     ]
    }
   ],
   "source": [
    "a = input(\"Enter base: \")\n",
    "b = input(\"Enter exponent: \")\n",
    "try:\n",
    "    base = float(a)\n",
    "    exp = float(b)\n",
    "    print(base ** exp)\n",
    "except ValueError:\n",
    "    print(\"Invalid number.\")\n"
   ]
  },
  {
   "cell_type": "markdown",
   "id": "5f133ded-7142-41f4-9c01-35990281c984",
   "metadata": {},
   "source": [
    "# Critique"
   ]
  },
  {
   "cell_type": "markdown",
   "id": "9789fb1b-04de-44e3-8f89-34fad3eda530",
   "metadata": {},
   "source": [
    "Correctness:\n",
    "The logic works for typical numeric inputs and correctly computes a ** b.\n",
    "However, it lacks a user-friendly message format and does not loop for retries. If invalid input is entered once, the program terminates instead of re-prompting.\n",
    "\n",
    "Complexity:\n",
    "O(1) for computation. Input and conversion operations are constant-time, as only two values are processed.\n",
    "\n",
    "Robustness:\n",
    "Handles ValueError gracefully for invalid inputs. Does not handle special cases such as extremely large exponents (OverflowError) or empty strings.\n",
    "Adding a loop with re-prompting would make the CLI more resilient and user-friendly.\n",
    "\n",
    "Readability / Style:\n",
    "Simple but lacks structure. The logic is written at the top level without functions or documentation.\n",
    "It would be cleaner to define helper functions like read_float() for reusability, and include a main() function to follow best practices.\n",
    "Variable naming (base, exp) is clear; however, consistent casing and docstrings would improve clarity.\n",
    "\n",
    "Faithfulness:\n",
    "Lesson 2 (Numbers & Math): Demonstrates arithmetic operations (**) correctly, following lecture examples.\n",
    "Lesson 4 (Control Flow & Error Handling): Uses try/except for exception recovery, exactly as taught in the “recover from errors” and “ValueError handling” sections.\n",
    "The improved version also illustrates why str.isdigit() fails (it doesn’t recognize signs, decimals, or scientific notation), which was discussed under “limitations of pre-validation.”"
   ]
  },
  {
   "cell_type": "markdown",
   "id": "b3b1261a-1ce5-4b5f-b617-f066a3ba3d64",
   "metadata": {},
   "source": [
    "# Improved Code"
   ]
  },
  {
   "cell_type": "code",
   "execution_count": 8,
   "id": "94c46fc9-8ea1-4bb6-b66e-4c7bf794817a",
   "metadata": {},
   "outputs": [
    {
     "name": "stdout",
     "output_type": "stream",
     "text": [
      "=== Exponent Calculator ===\n"
     ]
    },
    {
     "name": "stdin",
     "output_type": "stream",
     "text": [
      "Enter base:  2\n",
      "Enter exponent:  8\n"
     ]
    },
    {
     "name": "stdout",
     "output_type": "stream",
     "text": [
      "2.0 ** 8.0 = 256.0\n"
     ]
    }
   ],
   "source": [
    "def read_float(prompt: str) -> float:\n",
    "    while True:\n",
    "        user_input = input(prompt)\n",
    "        try:\n",
    "            return float(user_input)\n",
    "        except ValueError:\n",
    "            print(\"❌ Invalid input. Please enter a valid number (e.g., 3, -2.5, 1e3).\")\n",
    "\n",
    "def main() -> None:\n",
    "    print(\"=== Exponent Calculator ===\")\n",
    "    base = read_float(\"Enter base: \")\n",
    "    exp = read_float(\"Enter exponent: \")\n",
    "    try:\n",
    "        result = base ** exp\n",
    "        print(f\"{base} ** {exp} = {result}\")\n",
    "    except OverflowError:\n",
    "        print(\"⚠️ The result is too large to compute.\")\n",
    "\n",
    "if __name__ == \"__main__\":\n",
    "    main()\n"
   ]
  },
  {
   "cell_type": "markdown",
   "id": "9c9750e6-d55a-4768-8838-c24e0a20b8bd",
   "metadata": {},
   "source": [
    "# Q5"
   ]
  },
  {
   "cell_type": "markdown",
   "id": "6b0bcce0-1d95-4848-bf78-4618dcc94e83",
   "metadata": {},
   "source": [
    "Task: Implement check_password(pw:\n",
    "str) -> dict that validates: length ≥ 10, at least one uppercase, one lowercase,\n",
    "one digit, one symbol in !@#$%^&*, and no spaces. Return a dict of booleans per\n",
    "rule and an overall pass/fail. Include a loop that prompts until a valid password\n",
    "is entered (allow quit with Q/q). Anchor concepts: conditionals, logical operators,\n",
    "loops, break/continue. Reference: Lesson 3 (Functions & Loops), Lesson 4 (Conditionals & Control Flow)."
   ]
  },
  {
   "cell_type": "markdown",
   "id": "dffa9ae0-2362-4cf0-91e6-367e6b716260",
   "metadata": {},
   "source": [
    "# Prompt"
   ]
  },
  {
   "cell_type": "markdown",
   "id": "d75d188d-069e-40d9-b632-206f9e23ad8b",
   "metadata": {},
   "source": [
    "Write a Python function check_password(pw) that verifies a password against multiple security rules and returns a dict of booleans, including an overall \"ok\" flag.\n",
    "Then, write a loop that continues prompting the user until a valid password is provided, or Q/q is entered to quit."
   ]
  },
  {
   "cell_type": "markdown",
   "id": "7cef2c61-5f7f-4287-9846-ffbc6b2a0853",
   "metadata": {},
   "source": [
    "# ChatGPT Code"
   ]
  },
  {
   "cell_type": "code",
   "execution_count": 9,
   "id": "ecedc072-32de-4c2c-907e-934fff45f58a",
   "metadata": {},
   "outputs": [
    {
     "name": "stdin",
     "output_type": "stream",
     "text": [
      "Enter password (Q to quit):  Test\n"
     ]
    },
    {
     "name": "stdout",
     "output_type": "stream",
     "text": [
      "Invalid password: {'length': False, 'upper': True, 'lower': True, 'digit': False, 'symbol': False, 'no_space': True, 'ok': False}\n"
     ]
    },
    {
     "name": "stdin",
     "output_type": "stream",
     "text": [
      "Enter password (Q to quit):  StrongPass1!\n"
     ]
    },
    {
     "name": "stdout",
     "output_type": "stream",
     "text": [
      "Password accepted.\n"
     ]
    }
   ],
   "source": [
    "def check_password(pw):\n",
    "    rules = {\n",
    "        \"length\": len(pw) >= 10,\n",
    "        \"upper\": any(c.isupper() for c in pw),\n",
    "        \"lower\": any(c.islower() for c in pw),\n",
    "        \"digit\": any(c.isdigit() for c in pw),\n",
    "        \"symbol\": any(c in \"!@#$%^&*\" for c in pw),\n",
    "        \"no_space\": \" \" not in pw\n",
    "    }\n",
    "    rules[\"ok\"] = all(rules.values())\n",
    "    return rules\n",
    "\n",
    "while True:\n",
    "    s = input(\"Enter password (Q to quit): \")\n",
    "    if s.lower() == \"q\":\n",
    "        break\n",
    "    r = check_password(s)\n",
    "    if r[\"ok\"]:\n",
    "        print(\"Password accepted.\")\n",
    "        break\n",
    "    else:\n",
    "        print(\"Invalid password:\", r)\n"
   ]
  },
  {
   "cell_type": "markdown",
   "id": "8d75238b-75ce-4bc7-bf80-6ee2f14f2a69",
   "metadata": {},
   "source": [
    "# Critique"
   ]
  },
  {
   "cell_type": "markdown",
   "id": "a056861f-854a-4c64-96df-c312fdc2ba4b",
   "metadata": {},
   "source": [
    "Correctness:\n",
    "Function accurately checks all listed rules: length, uppercase, lowercase, digits, symbols, and no spaces.\n",
    "The any() generator expressions ensure efficient short-circuit evaluation.\n",
    "The interactive loop properly allows quitting and accepts a valid password only after all rules pass.\n",
    "\n",
    "Complexity:\n",
    "Each rule scans the string once, so overall time complexity is O(n) per password check and O(1) space (simple counters/flags). This is optimal.\n",
    "\n",
    "Robustness:\n",
    "Handles empty input and whitespace correctly. Prevents crashes on user quit (Q/q).\n",
    "Could include trimming (strip()) to avoid accidental trailing spaces, though not required.\n",
    "Does not expose passwords (no echo masking), which is acceptable in CLI prototypes.\n",
    "\n",
    "Readability / Style:\n",
    "Code is clear, but improvement opportunities include:\n",
    "\n",
    "Adding type hints and a docstring.\n",
    "\n",
    "Using descriptive variable names (pw → password).\n",
    "\n",
    "Giving user-friendly feedback instead of printing the raw dictionary.\n",
    "Overall, PEP 8 compliant and logically clean.\n",
    "\n",
    "Faithfulness:\n",
    "Lesson 3 (Functions & Loops): Demonstrates def usage, return, and a while loop with break/continue for control flow — directly from “loop patterns and nested conditions.”\n",
    "Lesson 4 (Conditionals & Logic): Uses multiple logical operators (and, or, not) and generator expressions with any() for concise condition checking.\n",
    "Interactive loop with a quit option mirrors the “prompt until valid” exercises in control-flow lectures.\n"
   ]
  },
  {
   "cell_type": "markdown",
   "id": "8a160127-b263-4c3d-9227-d2db4ad65180",
   "metadata": {},
   "source": [
    "# Improved Code"
   ]
  },
  {
   "cell_type": "code",
   "execution_count": 10,
   "id": "0b6f83d1-485b-4863-b720-f7466e1d8938",
   "metadata": {},
   "outputs": [
    {
     "name": "stdin",
     "output_type": "stream",
     "text": [
      "Enter password (Q to quit):  weak\n"
     ]
    },
    {
     "name": "stdout",
     "output_type": "stream",
     "text": [
      "❌ Invalid password. Issues found:\n",
      "   - Failed rule: length\n",
      "   - Failed rule: upper\n",
      "   - Failed rule: digit\n",
      "   - Failed rule: symbol\n"
     ]
    },
    {
     "name": "stdin",
     "output_type": "stream",
     "text": [
      "Enter password (Q to quit):  StrongPass1!\n"
     ]
    },
    {
     "name": "stdout",
     "output_type": "stream",
     "text": [
      "✅ Password accepted.\n"
     ]
    }
   ],
   "source": [
    "from typing import Dict\n",
    "\n",
    "SYMBOLS = set(\"!@#$%^&*\")\n",
    "\n",
    "def check_password(password: str) -> Dict[str, bool]:\n",
    "    rules = {\n",
    "        \"length\": len(password) >= 10,\n",
    "        \"upper\": any(c.isupper() for c in password),\n",
    "        \"lower\": any(c.islower() for c in password),\n",
    "        \"digit\": any(c.isdigit() for c in password),\n",
    "        \"symbol\": any(c in SYMBOLS for c in password),\n",
    "        \"no_space\": \" \" not in password\n",
    "    }\n",
    "    rules[\"ok\"] = all(rules.values())\n",
    "    return rules\n",
    "\n",
    "def main():\n",
    "    while True:\n",
    "        pw = input(\"Enter password (Q to quit): \")\n",
    "        if pw.lower() == \"q\":\n",
    "            print(\"Goodbye.\")\n",
    "            break\n",
    "        result = check_password(pw)\n",
    "        if result[\"ok\"]:\n",
    "            print(\"✅ Password accepted.\")\n",
    "            break\n",
    "        else:\n",
    "            print(\"❌ Invalid password. Issues found:\")\n",
    "            for k, v in result.items():\n",
    "                if k != \"ok\" and not v:\n",
    "                    print(f\"   - Failed rule: {k}\")\n",
    "\n",
    "if __name__ == \"__main__\":\n",
    "    main()\n"
   ]
  },
  {
   "cell_type": "markdown",
   "id": "95de59e6-29a4-438f-afa7-96063e53dccb",
   "metadata": {},
   "source": [
    "# Q6"
   ]
  },
  {
   "cell_type": "markdown",
   "id": "77846425-5ae1-4d6c-80f9-cfa2b2b9a8dd",
   "metadata": {},
   "source": [
    "Task: Write roll() -> int to simulate a fair die,\n",
    "then simulate 100,000 rolls to estimate the probability that the sum of two dice\n",
    "equals 7. Compare empirical result to the exact probability. Comment on random\n",
    "seeding and reproducibility. Anchor concepts: random module, simulation, averages.\n",
    "Reference: Lesson 4 (Conditional Logic & Control Flow — Simulation and Probability), Lesson 3 (Loops)."
   ]
  },
  {
   "cell_type": "markdown",
   "id": "d6d5b55a-9793-4298-bb4b-70f450a1aedb",
   "metadata": {},
   "source": [
    "# Prompt"
   ]
  },
  {
   "cell_type": "markdown",
   "id": "102bd1ab-e3a3-4344-ae4a-b3c94805a2f0",
   "metadata": {},
   "source": [
    "Write a Python program with a roll() function that simulates a fair six-sided die (values 1–6).\n",
    "Run 100,000 simulated pairs of dice and estimate the probability that their sum equals 7.\n",
    "Compare the simulated probability to the theoretical 1/6 and mention how random.seed() ensures reproducibility."
   ]
  },
  {
   "cell_type": "markdown",
   "id": "11e1ac4d-b8e3-4ca5-9d55-e19871f95fa3",
   "metadata": {},
   "source": [
    "# ChatGPT Code"
   ]
  },
  {
   "cell_type": "code",
   "execution_count": 11,
   "id": "9e398639-e15a-43f1-a057-2cc91ae9456d",
   "metadata": {},
   "outputs": [
    {
     "name": "stdout",
     "output_type": "stream",
     "text": [
      "0.16549\n"
     ]
    }
   ],
   "source": [
    "import random\n",
    "\n",
    "def roll():\n",
    "    return random.randint(1, 6)\n",
    "\n",
    "trials = 100000\n",
    "count = 0\n",
    "for _ in range(trials):\n",
    "    if roll() + roll() == 7:\n",
    "        count += 1\n",
    "print(count / trials)\n"
   ]
  },
  {
   "cell_type": "markdown",
   "id": "b77e525e-48d6-4020-88e7-c143360e153b",
   "metadata": {},
   "source": [
    "# Critique"
   ]
  },
  {
   "cell_type": "markdown",
   "id": "48bf569a-2f64-4478-9b94-80de2bcbd9f9",
   "metadata": {},
   "source": [
    "Correctness:\n",
    "The simulation correctly models two independent dice rolls per trial and counts occurrences where the sum equals 7. The use of random.randint(1, 6) accurately represents a fair die (inclusive endpoints).\n",
    "The printed probability should approach 0.1667 for a large number of trials.\n",
    "\n",
    "Complexity:\n",
    "Each trial involves two random calls and a simple addition, yielding O(T) time and O(1) space complexity — optimal for Monte Carlo estimation.\n",
    "\n",
    "Robustness:\n",
    "The code assumes trials is a positive integer and does not allow easy reproducibility since no seed is set.\n",
    "Adding random.seed(value) before the simulation ensures deterministic behavior for testing and comparison.\n",
    "No input validation or function encapsulation, but acceptable for simulation tasks.\n",
    "\n",
    "Readability / Style:\n",
    "Compact but procedural; lacks modular structure and documentation.\n",
    "Wrapping the simulation in a main() or estimate_sum7() function would align with better practices.\n",
    "Using formatted output for the comparison improves clarity for users.\n",
    "\n",
    "Faithfulness:\n",
    "Lesson 4 (Simulation & Probability): Directly applies the taught Monte Carlo concept — repeat random experiments, count outcomes, compute frequency as probability estimate.\n",
    "Lesson 3 (Loops): Uses a for loop with a counting pattern consistent with exercises on iterative simulations.\n",
    "Demonstrates awareness of the random module (Lesson 4 topic) and the reproducibility technique (random.seed()), both emphasized in simulation-based examples.\n"
   ]
  },
  {
   "cell_type": "markdown",
   "id": "e5526260-e9ac-4bea-bc85-631175ec3ca0",
   "metadata": {},
   "source": [
    "# Improved Code"
   ]
  },
  {
   "cell_type": "code",
   "execution_count": 12,
   "id": "59a2a2a0-ca5c-4603-82f5-2777c8b93cb3",
   "metadata": {},
   "outputs": [
    {
     "name": "stdout",
     "output_type": "stream",
     "text": [
      "Simulated P(sum=7): 0.16456\n",
      "Exact Probability : 0.16667\n",
      "Difference         : 2.10667e-03\n"
     ]
    }
   ],
   "source": [
    "import random\n",
    "\n",
    "def roll() -> int:\n",
    "    return random.randint(1, 6)\n",
    "\n",
    "def estimate_sum7(trials=100_000, seed=42) -> float:\n",
    "    random.seed(seed)\n",
    "    hits = sum(1 for _ in range(trials) if roll() + roll() == 7)\n",
    "    return hits / trials\n",
    "\n",
    "p_empirical = estimate_sum7()\n",
    "p_exact = 6 / 36\n",
    "print(f\"Simulated P(sum=7): {p_empirical:.5f}\")\n",
    "print(f\"Exact Probability : {p_exact:.5f}\")\n",
    "print(f\"Difference         : {abs(p_empirical - p_exact):.5e}\")\n"
   ]
  },
  {
   "cell_type": "markdown",
   "id": "00e1498f-72c1-45e4-a065-d37797031c72",
   "metadata": {},
   "source": [
    "# Q7"
   ]
  },
  {
   "cell_type": "markdown",
   "id": "f3c50744-ec62-4db0-8195-c22092315e3d",
   "metadata": {},
   "source": [
    "Task: Design classes Vehicle (base),\n",
    "Car and Truck (children). Each has color, mileage, and fuel_liters. Provide\n",
    "drive(km, km_per_liter) which increments mileage and decreases fuel (never below\n",
    "0) and refuel(liters). Show how inheritance avoids duplication and add\n",
    "a method override in Truck (e.g., different efficiency). Include a minimal test\n",
    "script. Anchor concepts: classes vs. instances, attributes, instance methods, inheritance/\n",
    "override. Reference: Lesson 6 (Object-Oriented Programming)."
   ]
  },
  {
   "cell_type": "markdown",
   "id": "ab6c5b01-d55b-416a-87f1-ee0e1e53dfec",
   "metadata": {},
   "source": [
    "# Prompt"
   ]
  },
  {
   "cell_type": "markdown",
   "id": "fae42549-1700-4c65-8088-d63f6f1615a1",
   "metadata": {},
   "source": [
    "Write Python classes Vehicle, Car, and Truck.\n",
    "Each has color, mileage, and fuel_liters attributes.\n",
    "Vehicle defines methods drive(km, km_per_liter) and refuel(liters).\n",
    "Truck should override drive with different efficiency.\n",
    "Include a short test showing inheritance and method overriding."
   ]
  },
  {
   "cell_type": "markdown",
   "id": "6990738e-324e-403b-9711-80b92682e199",
   "metadata": {},
   "source": [
    "# ChatGPT Code"
   ]
  },
  {
   "cell_type": "code",
   "execution_count": 13,
   "id": "c27dbf3f-8576-4357-bd7c-3892550e749b",
   "metadata": {},
   "outputs": [
    {
     "name": "stdout",
     "output_type": "stream",
     "text": [
      "10150 0\n",
      "5135.0 0\n"
     ]
    }
   ],
   "source": [
    "class Vehicle:\n",
    "    def __init__(self, color, mileage, fuel_liters):\n",
    "        self.color = color\n",
    "        self.mileage = mileage\n",
    "        self.fuel_liters = fuel_liters\n",
    "    def refuel(self, liters):\n",
    "        self.fuel_liters += liters\n",
    "    def drive(self, km, km_per_liter):\n",
    "        needed = km / km_per_liter\n",
    "        used = min(needed, self.fuel_liters)\n",
    "        self.fuel_liters -= used\n",
    "        self.mileage += used * km_per_liter\n",
    "\n",
    "class Car(Vehicle):\n",
    "    pass\n",
    "\n",
    "class Truck(Vehicle):\n",
    "    def drive(self, km, km_per_liter):\n",
    "        super().drive(km, km_per_liter * 0.9)\n",
    "\n",
    "# --- Testing ---\n",
    "c = Car(\"blue\", 10000, 10)\n",
    "t = Truck(\"red\", 5000, 10)\n",
    "c.drive(200, 15)\n",
    "t.drive(200, 15)\n",
    "print(c.mileage, c.fuel_liters)\n",
    "print(t.mileage, t.fuel_liters)\n"
   ]
  },
  {
   "cell_type": "markdown",
   "id": "8ed3a553-eb62-4d49-9b6f-9702f201a7fd",
   "metadata": {},
   "source": [
    "# Critique"
   ]
  },
  {
   "cell_type": "markdown",
   "id": "d173175d-3d92-482a-950e-7314ea676530",
   "metadata": {},
   "source": [
    "Correctness:\n",
    "Implements inheritance correctly: both Car and Truck inherit attributes and methods from Vehicle.\n",
    "The drive() method logic ensures fuel doesn’t drop below zero because of the min() call.\n",
    "The Truck override modifies fuel efficiency by 10%, simulating heavier load — a valid polymorphic behavior.\n",
    "Lacks explicit input validation (negative kilometers or fuel), which could lead to unrealistic state updates.\n",
    "\n",
    "Complexity:\n",
    "Each drive() call performs constant-time arithmetic (O(1) time, O(1) space). Inheritance reduces code duplication and promotes reuse — a key OOP efficiency concept.\n",
    "\n",
    "Robustness:\n",
    "No protection against invalid parameters (negative km or km_per_liter = 0).\n",
    "Could benefit from guards (if km < 0 or km_per_liter <= 0: raise ValueError).\n",
    "Otherwise, safe under normal use; never allows fuel below 0.\n",
    "\n",
    "Readability / Style:\n",
    "Clean structure but lacks docstrings, type hints, and meaningful method documentation.\n",
    "Variable naming is clear and consistent.\n",
    "Recommended to add small inline comments for clarity and a __str__() for easy debugging.\n",
    "\n",
    "Faithfulness:\n",
    "Lesson 6 (OOP): Fully demonstrates lecture principles:\n",
    "Base class (Vehicle) defines shared attributes and behavior.\n",
    "Child classes (Car, Truck) reuse and extend that behavior.\n",
    "Method overriding in Truck aligns with the “polymorphism and specialization” discussion.\n",
    "This reflects the exact structure taught under “inheritance avoids duplication” and “instance vs. class attributes.”\n",
    "Object instantiation and method invocation match the examples of vehicle subclasses from Lesson 6 slides."
   ]
  },
  {
   "cell_type": "markdown",
   "id": "e2c6aa68-e47c-4e4e-af3a-a09fc30241da",
   "metadata": {},
   "source": [
    "# Improved Code"
   ]
  },
  {
   "cell_type": "code",
   "execution_count": 14,
   "id": "5c079657-c0b7-46fe-8652-f84d3ca67d03",
   "metadata": {},
   "outputs": [
    {
     "name": "stdout",
     "output_type": "stream",
     "text": [
      "150\n",
      "135.0\n",
      "10150 0.0\n",
      "5135.0 0.0\n"
     ]
    }
   ],
   "source": [
    "class Vehicle:\n",
    "    def __init__(self, color: str, mileage: float = 0.0, fuel_liters: float = 0.0):\n",
    "        self.color = color\n",
    "        self.mileage = mileage\n",
    "        self.fuel_liters = fuel_liters\n",
    "\n",
    "    def refuel(self, liters: float):\n",
    "        if liters < 0:\n",
    "            raise ValueError(\"Refuel amount must be non-negative.\")\n",
    "        self.fuel_liters += liters\n",
    "\n",
    "    def drive(self, km: float, km_per_liter: float) -> float:\n",
    "        if km < 0 or km_per_liter <= 0:\n",
    "            raise ValueError(\"Invalid parameters.\")\n",
    "        max_km = self.fuel_liters * km_per_liter\n",
    "        actual_km = min(km, max_km)\n",
    "        self.fuel_liters -= actual_km / km_per_liter\n",
    "        self.mileage += actual_km\n",
    "        return actual_km\n",
    "\n",
    "class Car(Vehicle):\n",
    "    pass\n",
    "\n",
    "class Truck(Vehicle):\n",
    "    def drive(self, km: float, km_per_liter: float) -> float:\n",
    "        return super().drive(km, km_per_liter * 0.9)\n",
    "\n",
    "# --- Testing ---\n",
    "car = Car(\"Blue\", mileage=10000, fuel_liters=10)\n",
    "truck = Truck(\"Red\", mileage=5000, fuel_liters=10)\n",
    "print(car.drive(200, 15))\n",
    "print(truck.drive(200, 15))\n",
    "print(car.mileage, car.fuel_liters)\n",
    "print(truck.mileage, truck.fuel_liters)\n"
   ]
  },
  {
   "cell_type": "markdown",
   "id": "2f0f80aa-1773-4f5d-8f9b-41677fdd0c9c",
   "metadata": {},
   "source": [
    "# Q8"
   ]
  },
  {
   "cell_type": "markdown",
   "id": "c96a755c-eca8-4e84-8012-1d33f1ff21d1",
   "metadata": {},
   "source": [
    "Task: Using a Dog class (name, age, breed,\n",
    "bark()), implement a Kennel manager that holds multiple Dog instances, supports\n",
    "add_dog, remove_dog, oldest_dog(), and find_by_breed(breed). Compare composition\n",
    "vs. inheritance for this scenario. Anchor concepts: OOP design, managing\n",
    "collections of objects. Reference: Lesson 6 (Object-Oriented Programming), Lesson 5 (Lists and Dictionaries)."
   ]
  },
  {
   "cell_type": "markdown",
   "id": "8c9d758c-b65d-44b2-a95e-4ddec2e33ee4",
   "metadata": {},
   "source": [
    "# Prompt"
   ]
  },
  {
   "cell_type": "markdown",
   "id": "dae614e2-19d7-41c1-99e2-5613d4436b90",
   "metadata": {},
   "source": [
    "Create a Dog class and a Kennel class that manages multiple Dog instances.\n",
    "Implement methods for adding, removing, finding, and getting the oldest dog.\n",
    "Then, explain why this problem uses composition instead of inheritance."
   ]
  },
  {
   "cell_type": "markdown",
   "id": "0f60b0dc-960c-406b-aedb-ff57c4b9ece7",
   "metadata": {},
   "source": [
    "# ChatGPT Code"
   ]
  },
  {
   "cell_type": "code",
   "execution_count": 15,
   "id": "e18d9c7c-f972-4ae5-b157-a6321caa2b10",
   "metadata": {},
   "outputs": [
    {
     "name": "stdout",
     "output_type": "stream",
     "text": [
      "Milo\n",
      "['Milo']\n"
     ]
    }
   ],
   "source": [
    "class Dog:\n",
    "    def __init__(self, name, age, breed):\n",
    "        self.name = name\n",
    "        self.age = age\n",
    "        self.breed = breed\n",
    "    def bark(self):\n",
    "        return \"Woof!\"\n",
    "\n",
    "class Kennel:\n",
    "    def __init__(self):\n",
    "        self.dogs = []\n",
    "    def add_dog(self, dog):\n",
    "        self.dogs.append(dog)\n",
    "    def remove_dog(self, name):\n",
    "        self.dogs = [d for d in self.dogs if d.name != name]\n",
    "    def oldest_dog(self):\n",
    "        return max(self.dogs, key=lambda d: d.age) if self.dogs else None\n",
    "    def find_by_breed(self, breed):\n",
    "        return [d for d in self.dogs if d.breed == breed]\n",
    "\n",
    "# --- Testing ---\n",
    "k = Kennel()\n",
    "k.add_dog(Dog(\"Rex\", 5, \"Labrador\"))\n",
    "k.add_dog(Dog(\"Milo\", 7, \"Beagle\"))\n",
    "print(k.oldest_dog().name)\n",
    "print([d.name for d in k.find_by_breed(\"Beagle\")])\n"
   ]
  },
  {
   "cell_type": "markdown",
   "id": "00ea759d-d87b-4e34-ba2e-3db9907c641e",
   "metadata": {},
   "source": [
    "# Critique"
   ]
  },
  {
   "cell_type": "markdown",
   "id": "25eba6c8-c534-49a7-87b7-5a4355af345f",
   "metadata": {},
   "source": [
    "Correctness:\n",
    "The program fully meets functional requirements:\n",
    "\n",
    "add_dog() appends new Dog objects to the kennel.\n",
    "\n",
    "remove_dog() filters by name.\n",
    "\n",
    "oldest_dog() uses max() with a key function — an elegant, OOP-consistent approach.\n",
    "\n",
    "find_by_breed() returns a list of matches.\n",
    "All functions perform as intended for typical use cases.\n",
    "\n",
    "Complexity:\n",
    "\n",
    "add_dog: O(1)\n",
    "\n",
    "remove_dog, find_by_breed: O(n) (list traversal)\n",
    "\n",
    "oldest_dog: O(n) (single pass via max)\n",
    "These are optimal given that the kennel uses a Python list to manage its internal collection.\n",
    "\n",
    "Robustness:\n",
    "Works correctly for empty kennels (max guarded by condition).\n",
    "remove_dog() silently ignores missing names — acceptable for this context.\n",
    "Type-safety could be improved (e.g., verify added object is an instance of Dog).\n",
    "\n",
    "Readability / Style:\n",
    "Code is readable and uses clear naming. Could improve with:\n",
    "\n",
    "Type hints and docstrings for clarity.\n",
    "\n",
    "Encapsulation (prefix internal list with underscore _dogs).\n",
    "\n",
    "Return booleans for success/failure in remove_dog().\n",
    "\n",
    "Faithfulness:\n",
    "Lesson 6 (OOP Design): Demonstrates the “composition” principle — a Kennel has-a collection of Dog objects, rather than being a type of Dog.\n",
    "Lesson 5 (Lists): Manages dogs using a mutable list (append, list comprehension), directly applying collection manipulation lessons.\n",
    "Accurately reflects lecture distinctions between “inheritance (is-a)” vs. “composition (has-a)” relationships, as emphasized in the object model discussion.\n",
    "oldest_dog() and find_by_breed() use higher-order functions (max, list comprehension), consistent with the lecture’s efficient iteration strategies."
   ]
  },
  {
   "cell_type": "markdown",
   "id": "f5177845-039c-4b8b-bea3-d7a43c7037e9",
   "metadata": {},
   "source": [
    "# Improved Code"
   ]
  },
  {
   "cell_type": "code",
   "execution_count": 16,
   "id": "e8c9bf00-a5a3-4d8c-8444-a8951cce3f6e",
   "metadata": {},
   "outputs": [
    {
     "name": "stdout",
     "output_type": "stream",
     "text": [
      "['Rex', 'Milo', 'Luna']\n",
      "Milo\n",
      "['Milo', 'Luna']\n",
      "['Milo', 'Luna']\n"
     ]
    }
   ],
   "source": [
    "from dataclasses import dataclass\n",
    "from typing import List, Optional\n",
    "\n",
    "@dataclass\n",
    "class Dog:\n",
    "    name: str\n",
    "    age: int\n",
    "    breed: str\n",
    "    def bark(self):\n",
    "        return \"Woof!\"\n",
    "\n",
    "class Kennel:\n",
    "    def __init__(self):\n",
    "        self._dogs: List[Dog] = []\n",
    "    def add_dog(self, dog: Dog):\n",
    "        self._dogs.append(dog)\n",
    "    def remove_dog(self, name: str) -> bool:\n",
    "        for i, d in enumerate(self._dogs):\n",
    "            if d.name == name:\n",
    "                del self._dogs[i]\n",
    "                return True\n",
    "        return False\n",
    "    def oldest_dog(self) -> Optional[Dog]:\n",
    "        return max(self._dogs, key=lambda d: d.age) if self._dogs else None\n",
    "    def find_by_breed(self, breed: str) -> List[Dog]:\n",
    "        return [d for d in self._dogs if d.breed.lower() == breed.lower()]\n",
    "\n",
    "# --- Testing ---\n",
    "k = Kennel()\n",
    "k.add_dog(Dog(\"Rex\", 5, \"Labrador\"))\n",
    "k.add_dog(Dog(\"Milo\", 7, \"Beagle\"))\n",
    "k.add_dog(Dog(\"Luna\", 3, \"Beagle\"))\n",
    "print([d.name for d in k._dogs])\n",
    "print(k.oldest_dog().name)\n",
    "print([d.name for d in k.find_by_breed(\"Beagle\")])\n",
    "k.remove_dog(\"Rex\")\n",
    "print([d.name for d in k._dogs])\n"
   ]
  },
  {
   "cell_type": "markdown",
   "id": "02371cda-2a81-4d87-9931-7000f6b62129",
   "metadata": {},
   "source": [
    "# Q9"
   ]
  },
  {
   "cell_type": "markdown",
   "id": "5ad972ea-e122-4df9-9dc7-a8c43aadb4f5",
   "metadata": {},
   "source": [
    "Task: Create a package helpers/ with modules\n",
    "string_utils.py (function shout(s) uppercases) and math_utils.py (function area(l,w)).\n",
    "Then a main.py that imports with both import ... as ... and from ...\n",
    "import .... Explain namespace collisions and why aliases help. \n",
    "Anchor concepts:\n",
    "modules, packages, import variations, namespaces. \n",
    "Reference: Lesson 7 (Modules and Packages)."
   ]
  },
  {
   "cell_type": "markdown",
   "id": "48e840b8-9c7d-4f85-b814-6933a07eadea",
   "metadata": {},
   "source": [
    "# Prompt"
   ]
  },
  {
   "cell_type": "markdown",
   "id": "1ffb33cc-8df4-48a0-987d-d5b6767b0d86",
   "metadata": {},
   "source": [
    "Create a package helpers with two modules:\n",
    "helpers/string_utils.py defines a shout(s) function that uppercases its input.\n",
    "helpers/math_utils.py defines an area(l, w) function that returns a rectangle’s area.\n",
    "Then, write main.py that imports one module as an alias and another using from ... import ....\n",
    "Explain how aliases prevent namespace conflicts."
   ]
  },
  {
   "cell_type": "markdown",
   "id": "f48c1548-7c96-4b82-b88f-75309e947e65",
   "metadata": {},
   "source": [
    "# ChatGPT Code"
   ]
  },
  {
   "cell_type": "code",
   "execution_count": 19,
   "id": "7782c07a-2aed-4379-ab72-42f56d77b507",
   "metadata": {},
   "outputs": [
    {
     "name": "stdout",
     "output_type": "stream",
     "text": [
      "MODULAR DESIGN IS POWERFUL!\n",
      "15\n"
     ]
    }
   ],
   "source": [
    "import helpers.string_utils as su\n",
    "from helpers.math_utils import area\n",
    "\n",
    "def main():\n",
    "    print(su.shout(\"modular design is powerful!\"))\n",
    "    print(area(5, 3))\n",
    "\n",
    "if __name__ == \"__main__\":\n",
    "    main()\n"
   ]
  },
  {
   "cell_type": "markdown",
   "id": "c5255a66-31dd-47ab-8bce-2a4f926fd96f",
   "metadata": {},
   "source": [
    "# Critique"
   ]
  },
  {
   "cell_type": "markdown",
   "id": "3c879b62-5a15-43e1-83cd-a8327c8a332c",
   "metadata": {},
   "source": [
    "Correctness:\n",
    "This solution is functionally correct:\n",
    "The helpers directory forms a valid Python package (assuming it contains an __init__.py file, even if empty).\n",
    "shout() and area() perform their expected behaviors.\n",
    "The main.py correctly demonstrates both alias import (import ... as ...) and direct import (from ... import ...).\n",
    "\n",
    "Complexity:\n",
    "Both functions are constant-time, O(1), performing simple string and arithmetic operations.\n",
    "The module structure incurs no computational overhead beyond a single import resolution.\n",
    "\n",
    "Robustness:\n",
    "Straightforward and reliable for small functions.\n",
    "Works across platforms as long as the helpers package structure is maintained.\n",
    "No input validation—acceptable given the simplicity of tasks (per spec).\n",
    "\n",
    "Readability / Style:\n",
    "Follows PEP 8 conventions: lowercase function names, short descriptive identifiers, and clear structure.\n",
    "Could add minimal docstrings and type hints for clarity.\n",
    "The separation into modules illustrates modular design—each file handles a single concern.\n",
    "\n",
    "Faithfulness:\n",
    "Lesson 7 (Modules & Packages): Perfectly reflects concepts taught in this lesson:\n",
    "Modularization — grouping related functions into separate files for reusability.\n",
    "Import mechanisms — uses both import helpers.string_utils as su (qualified with alias) and from helpers.math_utils import area (direct import).\n",
    "Namespace management — demonstrates why aliases (e.g., su) help avoid naming conflicts across modules with similar function names.\n",
    "Fully aligns with the examples discussed under “avoiding namespace collisions through aliasing.”"
   ]
  },
  {
   "cell_type": "markdown",
   "id": "3a133236-ba3d-4835-84eb-fca574d9f272",
   "metadata": {},
   "source": [
    "# Improved Code"
   ]
  },
  {
   "cell_type": "code",
   "execution_count": 20,
   "id": "58eebf63-c82b-4e6d-9d94-00d04d6be93f",
   "metadata": {},
   "outputs": [
    {
     "name": "stdout",
     "output_type": "stream",
     "text": [
      "MODULAR DESIGN IS POWERFUL!\n",
      "15\n"
     ]
    }
   ],
   "source": [
    "# helpers/__init__.py\n",
    "# (empty file)\n",
    "\n",
    "# helpers/string_utils.py\n",
    "def shout(s: str) -> str:\n",
    "    \"\"\"Return s uppercased.\"\"\"\n",
    "    return s.upper()\n",
    "\n",
    "# helpers/math_utils.py\n",
    "def area(length: float, width: float) -> float:\n",
    "    \"\"\"Return rectangle area.\"\"\"\n",
    "    return length * width\n",
    "\n",
    "# main.py\n",
    "import helpers.string_utils as su\n",
    "from helpers.math_utils import area\n",
    "\n",
    "def main():\n",
    "    print(su.shout(\"modular design is powerful!\"))\n",
    "    print(area(5, 3))\n",
    "\n",
    "if __name__ == \"__main__\":\n",
    "    main()\n"
   ]
  },
  {
   "cell_type": "markdown",
   "id": "84437f11-f313-4cbd-b11e-e2a584051e6d",
   "metadata": {},
   "source": [
    "# Q10"
   ]
  },
  {
   "cell_type": "markdown",
   "id": "891615d7-8d62-49b2-b176-cc9a3c7481f2",
   "metadata": {},
   "source": [
    "Task:  Write two functions:\n",
    "cel_to_far(c) and far_to_cel(f) with type hints and docstrings. Build a\n",
    "CLI that asks the user which direction to convert and validates input (gracefully\n",
    "handles bad entries). Include unit tests (doctest or simple assert covering typical\n",
    "and edge cases (e.g., -40). Anchor concepts: writing functions, control flow, input\n",
    "handling, testing. Reference: Lesson 3 (Functions & Loops), Lesson 4 (Conditionals and Exception Handling)."
   ]
  },
  {
   "cell_type": "markdown",
   "id": "da240c40-6aa7-4790-9a4d-9b556c43ad96",
   "metadata": {},
   "source": [
    "# Prompt"
   ]
  },
  {
   "cell_type": "markdown",
   "id": "8874ef2a-5f5d-445e-a75e-6cf6aad83ba2",
   "metadata": {},
   "source": [
    "Write Python functions cel_to_far(c) and far_to_cel(f) with type hints and docstrings.\n",
    "Then, create a CLI program that asks the user to choose conversion direction and handles invalid input.\n",
    "Add assert-based tests for both typical and edge cases, including −40 (where Celsius = Fahrenheit)."
   ]
  },
  {
   "cell_type": "markdown",
   "id": "f70ce7b0-a198-43fa-8538-579da2655e0e",
   "metadata": {},
   "source": [
    "# ChatGPT Code"
   ]
  },
  {
   "cell_type": "code",
   "execution_count": 27,
   "id": "ffd15c93-c2ee-4c9b-8d5c-da961caf6ca3",
   "metadata": {},
   "outputs": [
    {
     "name": "stdout",
     "output_type": "stream",
     "text": [
      "32.0\n",
      "0.0\n"
     ]
    }
   ],
   "source": [
    "def cel_to_far(c):\n",
    "    return c * 9/5 + 32\n",
    "\n",
    "def far_to_cel(f):\n",
    "    return (f - 32) * 5/9\n",
    "\n",
    "print(cel_to_far(0))\n",
    "print(far_to_cel(32))\n"
   ]
  },
  {
   "cell_type": "markdown",
   "id": "9bb63317-515d-412a-925a-ee263db3b85d",
   "metadata": {},
   "source": [
    "# Critique"
   ]
  },
  {
   "cell_type": "markdown",
   "id": "e30a175e-d80c-4d53-8093-6e3150fa288a",
   "metadata": {},
   "source": [
    "Correctness:\n",
    "The mathematical formulas are correct for Celsius↔Fahrenheit conversion.\n",
    "However, the code lacks type hints, docstrings, and any error handling.\n",
    "It performs a fixed computation and prints results directly, not following CLI interaction requirements.\n",
    "\n",
    "Complexity:\n",
    "Each function performs constant-time arithmetic (O(1) time, O(1) space).\n",
    "CLI logic (input handling and branching) is also O(1).\n",
    "\n",
    "Robustness:\n",
    "No input validation or exception handling — invalid input (non-numeric) would raise a ValueError.\n",
    "The solution doesn’t handle user flow or retry logic for bad entries.\n",
    "A try/except block is necessary to make the CLI robust.\n",
    "\n",
    "Readability / Style:\n",
    "Compact, but minimal. Needs:\n",
    "Type hints (float → float)\n",
    "Docstrings describing conversion formula\n",
    "CLI input messages for usability\n",
    "Simple tests or assertions to verify correctness\n",
    "Otherwise, formula and naming are clear and PEP 8 compliant.\n",
    "\n",
    "Faithfulness:\n",
    "Lesson 3 (Functions & Loops): Demonstrates defining pure functions with clear inputs/outputs and reuse in a larger program.\n",
    "Lesson 4 (Conditionals & Exceptions): Applies control flow for user choice and try/except for safe input validation.\n",
    "Incorporates testing via assertions as discussed in the “function verification” examples."
   ]
  },
  {
   "cell_type": "markdown",
   "id": "1f52af16-f3e6-41b3-b49e-0233d444d900",
   "metadata": {},
   "source": [
    "# Improved Code"
   ]
  },
  {
   "cell_type": "code",
   "execution_count": 28,
   "id": "be4fb17b-7291-4515-a548-56aca0524061",
   "metadata": {},
   "outputs": [
    {
     "name": "stdout",
     "output_type": "stream",
     "text": [
      "32.0\n",
      "0.0\n",
      "-40.0\n",
      "-40.0\n",
      "1) C -> F  2) F -> C\n"
     ]
    },
    {
     "name": "stdin",
     "output_type": "stream",
     "text": [
      "Choose 1 or 2:  1\n",
      "Enter °C:  100\n"
     ]
    },
    {
     "name": "stdout",
     "output_type": "stream",
     "text": [
      "100.0°C = 212.00°F\n"
     ]
    }
   ],
   "source": [
    "def cel_to_far(c: float) -> float:\n",
    "    \"\"\"Convert Celsius to Fahrenheit.\"\"\"\n",
    "    return c * 9.0 / 5.0 + 32.0\n",
    "\n",
    "def far_to_cel(f: float) -> float:\n",
    "    \"\"\"Convert Fahrenheit to Celsius.\"\"\"\n",
    "    return (f - 32.0) * 5.0 / 9.0\n",
    "\n",
    "def read_float(prompt: str) -> float:\n",
    "    while True:\n",
    "        s = input(prompt)\n",
    "        try:\n",
    "            return float(s)\n",
    "        except ValueError:\n",
    "            print(\"Invalid number. Try again.\")\n",
    "\n",
    "def main():\n",
    "    print(\"1) C -> F  2) F -> C\")\n",
    "    choice = input(\"Choose 1 or 2: \").strip()\n",
    "    if choice == \"1\":\n",
    "        c = read_float(\"Enter °C: \")\n",
    "        print(f\"{c}°C = {cel_to_far(c):.2f}°F\")\n",
    "    elif choice == \"2\":\n",
    "        f = read_float(\"Enter °F: \")\n",
    "        print(f\"{f}°F = {far_to_cel(f):.2f}°C\")\n",
    "    else:\n",
    "        print(\"Invalid choice.\")\n",
    "\n",
    "if __name__ == \"__main__\":\n",
    "    print(cel_to_far(0))\n",
    "    print(far_to_cel(32))\n",
    "    print(cel_to_far(-40))\n",
    "    print(far_to_cel(-40))\n",
    "    main()\n"
   ]
  },
  {
   "cell_type": "code",
   "execution_count": null,
   "id": "b8811fc8-5983-4a80-beca-279884604de4",
   "metadata": {},
   "outputs": [],
   "source": []
  }
 ],
 "metadata": {
  "kernelspec": {
   "display_name": "Python [conda env:base] *",
   "language": "python",
   "name": "conda-base-py"
  },
  "language_info": {
   "codemirror_mode": {
    "name": "ipython",
    "version": 3
   },
   "file_extension": ".py",
   "mimetype": "text/x-python",
   "name": "python",
   "nbconvert_exporter": "python",
   "pygments_lexer": "ipython3",
   "version": "3.13.5"
  }
 },
 "nbformat": 4,
 "nbformat_minor": 5
}
