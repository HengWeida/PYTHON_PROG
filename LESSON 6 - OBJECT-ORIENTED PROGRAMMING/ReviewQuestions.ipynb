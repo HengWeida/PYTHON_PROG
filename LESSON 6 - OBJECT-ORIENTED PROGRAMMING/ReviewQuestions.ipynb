{
 "cells": [
  {
   "cell_type": "code",
   "execution_count": 1,
   "id": "cce54d77-921b-4b95-8a30-13e0ce008578",
   "metadata": {},
   "outputs": [
    {
     "name": "stdout",
     "output_type": "stream",
     "text": [
      "philo's coat is brown\n"
     ]
    }
   ],
   "source": [
    "    class Dog:\n",
    "        species = \"Canis Familiaries\"\n",
    "\n",
    "        def __init__(self, name, age, coat_color):\n",
    "            self.name = name\n",
    "            self.age = age\n",
    "            self.coat_color = coat_color\n",
    "\n",
    "        def description(self):\n",
    "            return f\"{self.name} is {self.age} years old.\"\n",
    "\n",
    "        def speak(self, sound):\n",
    "            return f\"{self.name} says {sound}!\"\n",
    "\n",
    "philo = Dog(\"philo\", 5, \"brown\")\n",
    "print(f\"{philo.name}'s coat is {philo.coat_color}\")"
   ]
  },
  {
   "cell_type": "code",
   "execution_count": 2,
   "id": "cf2f30c6-d735-4903-9e56-59c49cc7898d",
   "metadata": {},
   "outputs": [
    {
     "name": "stdout",
     "output_type": "stream",
     "text": [
      "The blue car has 20000 miles.\n",
      "The red car has 30000 miles.\n"
     ]
    }
   ],
   "source": [
    "    class Car:\n",
    "\n",
    "        def __init__(spec, color, mileage):\n",
    "            spec.color = color\n",
    "            spec.mileage = mileage\n",
    "\n",
    "car1 = Car(\"blue\", 20000)\n",
    "car2 = Car(\"red\", 30000)\n",
    "print(f\"The {car1.color} car has {car1.mileage} miles.\")\n",
    "print(f\"The {car2.color} car has {car2.mileage} miles.\")"
   ]
  },
  {
   "cell_type": "code",
   "execution_count": 3,
   "id": "f1251b94-5cbb-44f8-bd11-83b8c1091914",
   "metadata": {},
   "outputs": [
    {
     "name": "stdout",
     "output_type": "stream",
     "text": [
      "The blue car has 20000 miles.\n",
      "The red car has 30000 miles.\n",
      "After driving, the blue car has 20100 miles.\n"
     ]
    }
   ],
   "source": [
    "class Car:\n",
    "\n",
    "    def __init__(spec, color, mileage):\n",
    "        spec.color = color\n",
    "        spec.mileage = mileage\n",
    "\n",
    "    def drive(spec, miles):\n",
    "        spec.mileage += miles  # ✅ adds the given miles to current mileage\n",
    "\n",
    "car1 = Car(\"blue\", 20000)\n",
    "car2 = Car(\"red\", 30000)\n",
    "\n",
    "print(f\"The {car1.color} car has {car1.mileage} miles.\")\n",
    "print(f\"The {car2.color} car has {car2.mileage} miles.\")\n",
    "\n",
    "# testing the drive(100) method\n",
    "car1.drive(100)\n",
    "print(f\"After driving, the {car1.color} car has {car1.mileage} miles.\")\n"
   ]
  },
  {
   "cell_type": "code",
   "execution_count": 8,
   "id": "22b12517-31c9-40d6-aaed-db1e4e5be616",
   "metadata": {},
   "outputs": [
    {
     "name": "stdout",
     "output_type": "stream",
     "text": [
      "Goldy is a 5 years old.\n",
      "Goldy says Bark!\n"
     ]
    }
   ],
   "source": [
    "    class Dog:\n",
    "        species = \"Canis Familiaries\"\n",
    "\n",
    "        def __init__(self, name, age, coat_color):\n",
    "            self.name = name\n",
    "            self.age = age\n",
    "            self.coat_color = coat_color\n",
    "\n",
    "        def __str__(self):\n",
    "            return f\"{self.name} is a {self.age} years old.\"\n",
    "\n",
    "        def speak(self, sound):\n",
    "            return f\"{self.name} says {sound}!\"\n",
    "\n",
    "    class Golden_Retriever(Dog):     \n",
    "        def speak(self, sound=\"Bark\"):\n",
    "            return super().speak(sound)\n",
    "\n",
    "gr = Golden_Retriever(\"Goldy\", 5, \"golden\")\n",
    "print(gr)\n",
    "print(gr.speak())"
   ]
  },
  {
   "cell_type": "code",
   "execution_count": 11,
   "id": "ec88d957-4911-4886-b390-d69df5bbbd30",
   "metadata": {},
   "outputs": [
    {
     "name": "stdout",
     "output_type": "stream",
     "text": [
      "16\n"
     ]
    }
   ],
   "source": [
    "class Rectangle():\n",
    "    def __init__(measure, length, width):\n",
    "        measure.length = length\n",
    "        measure.width = width\n",
    "\n",
    "    def area(measure):\n",
    "        return measure.length * measure.width\n",
    "\n",
    "class square(Rectangle):\n",
    "    def __init__(measure, side_length):\n",
    "        super().__init__(side_length, side_length)\n",
    "\n",
    "sq = square(4)\n",
    "print(sq.area())"
   ]
  },
  {
   "cell_type": "code",
   "execution_count": 12,
   "id": "b78d845d-0191-4918-859d-fde51c43dc18",
   "metadata": {},
   "outputs": [
    {
     "name": "stdout",
     "output_type": "stream",
     "text": [
      "Dogy is eating dog food.\n",
      "Caty is sleeping.\n",
      "Birdy is eating seeds.\n",
      "Dogy the Pink barks: Woof woof!\n",
      "Caty the black cat says: Meow!\n",
      "Birdy the Canary is flying in the sky!\n"
     ]
    }
   ],
   "source": [
    "class Animal:\n",
    "    def __init__(self, name, age):\n",
    "        self.name = name\n",
    "        self.age = age\n",
    "\n",
    "    def eat(self, food):\n",
    "        print(f\"{self.name} is eating {food}.\")\n",
    "\n",
    "    def sleep(self):\n",
    "        print(f\"{self.name} is sleeping.\")\n",
    "\n",
    "\n",
    "class Dog(Animal):\n",
    "    def __init__(self, name, age, breed):\n",
    "        super().__init__(name, age)\n",
    "        self.breed = breed\n",
    "\n",
    "    def bark(self):\n",
    "        print(f\"{self.name} the {self.breed} barks: Woof woof!\")\n",
    "\n",
    "\n",
    "class Cat(Animal):\n",
    "    def __init__(self, name, age, color):\n",
    "        super().__init__(name, age)\n",
    "        self.color = color\n",
    "\n",
    "    def meow(self):\n",
    "        print(f\"{self.name} the {self.color} cat says: Meow!\")\n",
    "\n",
    "\n",
    "class Bird(Animal):\n",
    "    def __init__(self, name, age, species):\n",
    "        super().__init__(name, age)\n",
    "        self.species = species\n",
    "\n",
    "    def fly(self):\n",
    "        print(f\"{self.name} the {self.species} is flying in the sky!\")\n",
    "\n",
    "\n",
    "dog = Dog(\"Dogy\", 3, \"Pink\")\n",
    "cat = Cat(\"Caty\", 2, \"black\")\n",
    "bird = Bird(\"Birdy\", 1, \"Canary\")\n",
    "\n",
    "dog.eat(\"dog food\")\n",
    "cat.sleep()\n",
    "bird.eat(\"seeds\")\n",
    "\n",
    "dog.bark()\n",
    "cat.meow()\n",
    "bird.fly()\n"
   ]
  },
  {
   "cell_type": "code",
   "execution_count": null,
   "id": "22d6fca8-be85-427d-b26e-3fd25376adf7",
   "metadata": {},
   "outputs": [],
   "source": []
  }
 ],
 "metadata": {
  "kernelspec": {
   "display_name": "Python [conda env:base] *",
   "language": "python",
   "name": "conda-base-py"
  },
  "language_info": {
   "codemirror_mode": {
    "name": "ipython",
    "version": 3
   },
   "file_extension": ".py",
   "mimetype": "text/x-python",
   "name": "python",
   "nbconvert_exporter": "python",
   "pygments_lexer": "ipython3",
   "version": "3.13.5"
  }
 },
 "nbformat": 4,
 "nbformat_minor": 5
}
