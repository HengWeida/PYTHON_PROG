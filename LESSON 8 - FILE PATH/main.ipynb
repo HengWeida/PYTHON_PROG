{
 "cells": [
  {
   "cell_type": "markdown",
   "id": "f5e3cffa-a9fa-4fa4-a575-429b666de75c",
   "metadata": {},
   "source": [
    "# Lesson 8"
   ]
  },
  {
   "cell_type": "markdown",
   "id": "005f06b7-4a41-4130-8448-9a5bf111f7a1",
   "metadata": {},
   "source": [
    "# Review Question 1"
   ]
  },
  {
   "cell_type": "code",
   "execution_count": 9,
   "id": "e6b95326-10ab-4dd5-b14e-b944972e8be4",
   "metadata": {},
   "outputs": [],
   "source": [
    "import pathlib"
   ]
  },
  {
   "cell_type": "code",
   "execution_count": 10,
   "id": "acfcce2f-fdab-476e-844e-f62a8862b597",
   "metadata": {},
   "outputs": [],
   "source": [
    "from pathlib import Path"
   ]
  },
  {
   "cell_type": "code",
   "execution_count": 11,
   "id": "5e22995e-71fa-4318-97ea-75b40a12076f",
   "metadata": {},
   "outputs": [],
   "source": [
    "file_path = pathlib.Path(\"Users\\Sergio Neri Jr\\MY_FOLDER\\MY_FILE.TXT\")"
   ]
  },
  {
   "cell_type": "code",
   "execution_count": 12,
   "id": "9ab4bfce-2ecd-400e-9c13-5e469dbb94ed",
   "metadata": {},
   "outputs": [
    {
     "name": "stdout",
     "output_type": "stream",
     "text": [
      "False\n"
     ]
    }
   ],
   "source": [
    "print(file_path.exists())"
   ]
  },
  {
   "cell_type": "code",
   "execution_count": 13,
   "id": "680af733-edaa-4152-a177-dab80e9b8dc9",
   "metadata": {},
   "outputs": [
    {
     "name": "stdout",
     "output_type": "stream",
     "text": [
      "MY_FILE.TXT\n"
     ]
    }
   ],
   "source": [
    "print(file_path.name)"
   ]
  },
  {
   "cell_type": "code",
   "execution_count": 14,
   "id": "d75433ee-3213-478d-8703-2714e5a9e264",
   "metadata": {},
   "outputs": [
    {
     "name": "stdout",
     "output_type": "stream",
     "text": [
      "MY_FOLDER\n"
     ]
    }
   ],
   "source": [
    "print(file_path.parent.name)"
   ]
  },
  {
   "cell_type": "markdown",
   "id": "6d0bb652-14f3-4dd3-a803-43c1ee7303e4",
   "metadata": {},
   "source": [
    "# Review Question 2"
   ]
  },
  {
   "cell_type": "code",
   "execution_count": 15,
   "id": "f7b521dd-e640-4963-888c-22ce9af83457",
   "metadata": {},
   "outputs": [],
   "source": [
    "from pathlib import Path\n",
    "import shutil"
   ]
  },
  {
   "cell_type": "code",
   "execution_count": 39,
   "id": "dd45a406-22ac-462b-acda-9943257fe8db",
   "metadata": {},
   "outputs": [
    {
     "name": "stdout",
     "output_type": "stream",
     "text": [
      "Created folder: MY_FOLDER\n"
     ]
    }
   ],
   "source": [
    "my_folder = Path.home() / \"MY_FOLDER\"\n",
    "my_folder.mkdir(exist_ok=True)\n",
    "print(f\"Created folder: {my_folder.name}\")"
   ]
  },
  {
   "cell_type": "code",
   "execution_count": 17,
   "id": "e1375177-39ed-48f3-a46d-316597bf3ed5",
   "metadata": {},
   "outputs": [
    {
     "name": "stdout",
     "output_type": "stream",
     "text": [
      "Created files: FILE1.TXT FILE2.TXT IMAGE1.PNG\n"
     ]
    }
   ],
   "source": [
    "file1 = my_folder / \"FILE1.TXT\"\n",
    "file2 = my_folder / \"FILE2.TXT\"\n",
    "image1 = my_folder / \"IMAGE1.PNG\"\n",
    "\n",
    "file1.touch(exist_ok=True)\n",
    "file2.touch(exist_ok=True)\n",
    "image1.touch(exist_ok=True)\n",
    "\n",
    "print(\"Created files:\", file1.name, file2.name, image1.name)"
   ]
  },
  {
   "cell_type": "code",
   "execution_count": 18,
   "id": "0975bfb4-53a0-4453-95a8-ce184001b5a0",
   "metadata": {},
   "outputs": [
    {
     "name": "stdout",
     "output_type": "stream",
     "text": [
      "Moved IMAGE1.PNG to C:\\Users\\Sergio Neri Jr\\MY_FOLDER\\IMAGES\n"
     ]
    }
   ],
   "source": [
    "images_folder = my_folder / \"IMAGES\"\n",
    "images_folder.mkdir(exist_ok=True)\n",
    "\n",
    "new_image_path = images_folder / image1.name\n",
    "image1.rename(new_image_path)\n",
    "\n",
    "print(f\"Moved {image1.name} to {images_folder}\")"
   ]
  },
  {
   "cell_type": "code",
   "execution_count": 19,
   "id": "158a62ce-5cb9-4c3e-86cc-3ae9a0474429",
   "metadata": {},
   "outputs": [
    {
     "name": "stdout",
     "output_type": "stream",
     "text": [
      "Deleted file: FILE1.TXT\n"
     ]
    }
   ],
   "source": [
    "if file1.exists():\n",
    "    file1.unlink()\n",
    "    print(f\"Deleted file: {file1.name}\")"
   ]
  },
  {
   "cell_type": "code",
   "execution_count": 20,
   "id": "f1ad82c3-964d-40b0-9b52-b3febacefe56",
   "metadata": {},
   "outputs": [
    {
     "name": "stdout",
     "output_type": "stream",
     "text": [
      "Deleted folder: C:\\Users\\Sergio Neri Jr\\MY_FOLDER\n"
     ]
    }
   ],
   "source": [
    "if my_folder.exists():\n",
    "    shutil.rmtree(my_folder)\n",
    "    print(f\"Deleted folder: {my_folder}\")"
   ]
  },
  {
   "cell_type": "markdown",
   "id": "20f287ac-ce9e-42e4-b3ef-ada3f2141726",
   "metadata": {},
   "source": [
    "# CHALLENGE: MOVE ALL IMAGE FILES TO A NEW DIRECTORY"
   ]
  },
  {
   "cell_type": "code",
   "execution_count": 57,
   "id": "2bbed2c1-5af2-42a4-a7ab-dc29e0bbd90f",
   "metadata": {},
   "outputs": [],
   "source": [
    "from pathlib import Path"
   ]
  },
  {
   "cell_type": "code",
   "execution_count": 58,
   "id": "99d1f5ff-286e-4317-a26b-ecf875376650",
   "metadata": {},
   "outputs": [
    {
     "name": "stdout",
     "output_type": "stream",
     "text": [
      "Folder: PRACTICE_FILES has been created!\n"
     ]
    }
   ],
   "source": [
    "practice_files = Path.home() / \"PRACTICE_FILES\"\n",
    "practice_files.mkdir(exist_ok=True)\n",
    "print(f\"Folder: {practice_files.name} has been created!\")"
   ]
  },
  {
   "cell_type": "code",
   "execution_count": 26,
   "id": "e46abe83-db0d-458c-b02f-7ba1da559943",
   "metadata": {},
   "outputs": [
    {
     "name": "stdout",
     "output_type": "stream",
     "text": [
      "IMAGES folder is created inside PRACTICE_FILES folder\n"
     ]
    }
   ],
   "source": [
    "images_folder = Path.home() /\"PRACTICE_FILES\"/\"IMAGES\"\n",
    "images_folder.mkdir(exist_ok=True)\n",
    "print(f\"{images_folder.name} folder is created inside {practice_files.name} folder\")"
   ]
  },
  {
   "cell_type": "code",
   "execution_count": 38,
   "id": "f9eaeac0-f6d8-4539-a47f-275f18d07240",
   "metadata": {},
   "outputs": [
    {
     "name": "stdout",
     "output_type": "stream",
     "text": [
      "IMAGE1.PNG , IMAGES2.GIF , IMAGES3.PNG , IMAGES4.JPG has been created!\n",
      "IMAGE1.PNG , IMAGES2.GIF , IMAGES3.PNG , IMAGES4.JPG has been moved!\n"
     ]
    }
   ],
   "source": [
    "images_folder = Path.home() /\"PRACTICE_FILES\"/\"IMAGES\"\n",
    "images_folder.mkdir(exist_ok=True)\n",
    "\n",
    "#created the images files\n",
    "images1 = practice_files / \"IMAGE1.PNG\"\n",
    "images2 = practice_files / \"IMAGES2.GIF\"\n",
    "images3 = practice_files / \"IMAGES3.PNG\"\n",
    "images4 = practice_files / \"IMAGES4.JPG\"\n",
    "\n",
    "images1.touch(exist_ok=True)\n",
    "images2.touch(exist_ok=True)\n",
    "images3.touch(exist_ok=True)\n",
    "images4.touch(exist_ok=True)\n",
    "\n",
    "print(f\"{images1.name} , {images2.name} , {images3.name} , {images4.name} has been created!\")\n",
    "\n",
    "#move the images\n",
    "images1.rename(images_folder / images1.name)\n",
    "images2.rename(images_folder / images2.name)\n",
    "images3.rename(images_folder / images3.name)\n",
    "images4.rename(images_folder / images4.name)\n",
    "\n",
    "print(f\"{images1.name} , {images2.name} , {images3.name} , {images4.name} has been moved!\")"
   ]
  },
  {
   "cell_type": "markdown",
   "id": "1d4180d3-3e96-4ded-9aed-1cb31becc271",
   "metadata": {},
   "source": [
    "# Review Question 3"
   ]
  },
  {
   "cell_type": "code",
   "execution_count": 53,
   "id": "127e3b81-6f94-4997-8d04-3a67dfdf69ae",
   "metadata": {},
   "outputs": [
    {
     "name": "stdout",
     "output_type": "stream",
     "text": [
      "Created file: starships.txt\n"
     ]
    }
   ],
   "source": [
    "from pathlib import Path\n",
    "\n",
    "starships_file = practice_files / \"starships.txt\"\n",
    "\n",
    "with open(starships_file, \"w\") as file:\n",
    "    file.write(\"Discovery\\n\")\n",
    "    file.write(\"Enterprise\\n\")\n",
    "    file.write(\"Defiant\\n\")\n",
    "    file.write(\"Voyager\\n\")\n",
    "\n",
    "print(f\"Created file: {starships_file.name}\")"
   ]
  },
  {
   "cell_type": "code",
   "execution_count": 50,
   "id": "de3cfbc4-8790-4ab3-bbc5-7600baf8c4bf",
   "metadata": {},
   "outputs": [
    {
     "name": "stdout",
     "output_type": "stream",
     "text": [
      "Starships list:\n",
      "Discovery\n",
      "Enterprise\n",
      "Defiant\n",
      "Voyager\n"
     ]
    }
   ],
   "source": [
    "print(\"Starships list:\")\n",
    "with open(starships_file, \"r\") as file:\n",
    "    for line in file:\n",
    "        print(line.strip())"
   ]
  },
  {
   "cell_type": "code",
   "execution_count": 52,
   "id": "df82704a-99a4-4ca5-917c-02165da979d5",
   "metadata": {},
   "outputs": [
    {
     "name": "stdout",
     "output_type": "stream",
     "text": [
      "Starships starting with 'D':\n",
      "Discovery\n",
      "Defiant\n"
     ]
    }
   ],
   "source": [
    "print(\"Starships starting with 'D':\")\n",
    "with open(starships_file, \"r\") as file:\n",
    "    for line in file:\n",
    "        if line.startswith(\"D\"):\n",
    "            print(line.strip())"
   ]
  },
  {
   "cell_type": "markdown",
   "id": "c6f449b9-7cb3-48d6-8d1c-2e8f80f517ec",
   "metadata": {},
   "source": [
    "# Review Question 4"
   ]
  },
  {
   "cell_type": "code",
   "execution_count": 55,
   "id": "e12a1f5b-a7c8-4420-987a-059bc8307ddf",
   "metadata": {},
   "outputs": [
    {
     "name": "stdout",
     "output_type": "stream",
     "text": [
      "Created file: numbers.csv\n"
     ]
    }
   ],
   "source": [
    "import csv\n",
    "from pathlib import Path\n",
    "\n",
    "# Path to CSV file\n",
    "csv_file = practice_files / \"numbers.csv\"\n",
    "\n",
    "# List of lists to write\n",
    "numbers = [\n",
    "    [1, 2, 3, 4, 5],\n",
    "    [6, 7, 8, 9, 10],\n",
    "    [11, 12, 13, 14, 15],\n",
    "]\n",
    "\n",
    "# Write to CSV file\n",
    "with open(csv_file, \"w\", newline=\"\") as file:\n",
    "    writer = csv.writer(file)\n",
    "    writer.writerows(numbers)\n",
    "\n",
    "print(f\"Created file: {csv_file.name}\")"
   ]
  },
  {
   "cell_type": "code",
   "execution_count": 56,
   "id": "b91087fd-aecd-456c-9dc2-768b80c0c0b8",
   "metadata": {},
   "outputs": [
    {
     "name": "stdout",
     "output_type": "stream",
     "text": [
      "[[1, 2, 3, 4, 5], [6, 7, 8, 9, 10], [11, 12, 13, 14, 15]]\n"
     ]
    }
   ],
   "source": [
    "import csv\n",
    "from pathlib import Path\n",
    "\n",
    "# Path to the same file\n",
    "csv_file = Path.home() / \"PRACTICE_FILES\" / \"numbers.csv\"\n",
    "\n",
    "# Read numbers into list of lists\n",
    "numbers = []\n",
    "with open(csv_file, \"r\") as file:\n",
    "    reader = csv.reader(file)\n",
    "    for row in reader:\n",
    "        numbers.append([int(num) for num in row])  # convert each value to int\n",
    "\n",
    "print(numbers)\n"
   ]
  }
 ],
 "metadata": {
  "kernelspec": {
   "display_name": "Python [conda env:base] *",
   "language": "python",
   "name": "conda-base-py"
  },
  "language_info": {
   "codemirror_mode": {
    "name": "ipython",
    "version": 3
   },
   "file_extension": ".py",
   "mimetype": "text/x-python",
   "name": "python",
   "nbconvert_exporter": "python",
   "pygments_lexer": "ipython3",
   "version": "3.13.5"
  }
 },
 "nbformat": 4,
 "nbformat_minor": 5
}
