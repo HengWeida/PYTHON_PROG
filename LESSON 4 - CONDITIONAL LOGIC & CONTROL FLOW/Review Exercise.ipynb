{
 "cells": [
  {
   "cell_type": "markdown",
   "id": "5cc2ee59-6624-402b-92bd-f8a52e9567f8",
   "metadata": {},
   "source": [
    "# Review Excersis 1"
   ]
  },
  {
   "cell_type": "code",
   "execution_count": 1,
   "id": "f6dd1889-ea39-410f-813b-3c4542637c88",
   "metadata": {},
   "outputs": [
    {
     "data": {
      "text/plain": [
       "True"
      ]
     },
     "execution_count": 1,
     "metadata": {},
     "output_type": "execute_result"
    }
   ],
   "source": [
    "1 <= 1 #True"
   ]
  },
  {
   "cell_type": "code",
   "execution_count": 2,
   "id": "44939c07-0768-4f11-850f-e6d2b752cd37",
   "metadata": {},
   "outputs": [
    {
     "data": {
      "text/plain": [
       "False"
      ]
     },
     "execution_count": 2,
     "metadata": {},
     "output_type": "execute_result"
    }
   ],
   "source": [
    "1 != 1 #False"
   ]
  },
  {
   "cell_type": "code",
   "execution_count": 3,
   "id": "d478b802-475f-4ab2-a61e-240b3acec080",
   "metadata": {},
   "outputs": [
    {
     "data": {
      "text/plain": [
       "True"
      ]
     },
     "execution_count": 3,
     "metadata": {},
     "output_type": "execute_result"
    }
   ],
   "source": [
    "1 != 2 #True"
   ]
  },
  {
   "cell_type": "code",
   "execution_count": 4,
   "id": "14dab5d2-c770-49f7-80e6-bcf1505e3913",
   "metadata": {},
   "outputs": [
    {
     "data": {
      "text/plain": [
       "True"
      ]
     },
     "execution_count": 4,
     "metadata": {},
     "output_type": "execute_result"
    }
   ],
   "source": [
    "\"good\" != \"bad\" #True"
   ]
  },
  {
   "cell_type": "code",
   "execution_count": 5,
   "id": "d6149051-bd75-4b58-8e2f-0d8f0b178396",
   "metadata": {},
   "outputs": [
    {
     "data": {
      "text/plain": [
       "True"
      ]
     },
     "execution_count": 5,
     "metadata": {},
     "output_type": "execute_result"
    }
   ],
   "source": [
    "\"good\" != \"Good\" #True"
   ]
  },
  {
   "cell_type": "code",
   "execution_count": 6,
   "id": "a1a7391d-8247-4d1f-88a6-e5a70b66839b",
   "metadata": {},
   "outputs": [
    {
     "data": {
      "text/plain": [
       "True"
      ]
     },
     "execution_count": 6,
     "metadata": {},
     "output_type": "execute_result"
    }
   ],
   "source": [
    "123 != \"123\" #True"
   ]
  },
  {
   "cell_type": "code",
   "execution_count": 7,
   "id": "363c1617-726b-49d5-b19f-6222746e8a17",
   "metadata": {},
   "outputs": [
    {
     "data": {
      "text/plain": [
       "True"
      ]
     },
     "execution_count": 7,
     "metadata": {},
     "output_type": "execute_result"
    }
   ],
   "source": [
    "3 < 4"
   ]
  },
  {
   "cell_type": "code",
   "execution_count": 8,
   "id": "76b0f9c1-fdc5-4ab4-b2ff-e84c383e9d3d",
   "metadata": {},
   "outputs": [
    {
     "data": {
      "text/plain": [
       "True"
      ]
     },
     "execution_count": 8,
     "metadata": {},
     "output_type": "execute_result"
    }
   ],
   "source": [
    "10 > 5"
   ]
  },
  {
   "cell_type": "code",
   "execution_count": 9,
   "id": "a6278cd0-6363-47af-a7f6-0b62c8e6bee4",
   "metadata": {},
   "outputs": [
    {
     "data": {
      "text/plain": [
       "True"
      ]
     },
     "execution_count": 9,
     "metadata": {},
     "output_type": "execute_result"
    }
   ],
   "source": [
    "\"jack\" != \"jill\""
   ]
  },
  {
   "cell_type": "code",
   "execution_count": 10,
   "id": "0dcae74f-65b3-4627-85e8-1b7d81e5849b",
   "metadata": {},
   "outputs": [
    {
     "data": {
      "text/plain": [
       "True"
      ]
     },
     "execution_count": 10,
     "metadata": {},
     "output_type": "execute_result"
    }
   ],
   "source": [
    "42 != \"42\""
   ]
  },
  {
   "cell_type": "code",
   "execution_count": 20,
   "id": "7acf2756-6cd8-4d40-bf29-5a1343ec4c70",
   "metadata": {},
   "outputs": [
    {
     "name": "stdin",
     "output_type": "stream",
     "text": [
      "Enter a word:  crazy\n"
     ]
    },
    {
     "name": "stdout",
     "output_type": "stream",
     "text": [
      " crazy has 5 characters!\n"
     ]
    }
   ],
   "source": [
    "w = str(input(\"Enter a word: \"))\n",
    "if len(w) == 0:\n",
    "    print(\"No word entered.\")\n",
    "elif (len(w) < 5):\n",
    "    print(f\" {w} is less than 5 characters!\")\n",
    "elif len(w) > 5:\n",
    "    print(f\" {w} is greater than 5 characters!\")\n",
    "else :\n",
    "    print(f\" {w} has 5 characters!\")\n",
    "   "
   ]
  },
  {
   "cell_type": "code",
   "execution_count": 27,
   "id": "68b8c4fa-9c53-4f0c-b33b-926c427b15bf",
   "metadata": {},
   "outputs": [
    {
     "name": "stdin",
     "output_type": "stream",
     "text": [
      "Enter letter Q or q or i won't stop asking for it:   a\n"
     ]
    },
    {
     "name": "stdout",
     "output_type": "stream",
     "text": [
      "Enter Q or q to exit the program: \n"
     ]
    },
    {
     "name": "stdin",
     "output_type": "stream",
     "text": [
      "Enter letter Q or q or i won't stop asking for it:   b\n"
     ]
    },
    {
     "name": "stdout",
     "output_type": "stream",
     "text": [
      "Enter Q or q to exit the program: \n"
     ]
    },
    {
     "name": "stdin",
     "output_type": "stream",
     "text": [
      "Enter letter Q or q or i won't stop asking for it:   c\n"
     ]
    },
    {
     "name": "stdout",
     "output_type": "stream",
     "text": [
      "Enter Q or q to exit the program: \n"
     ]
    },
    {
     "name": "stdin",
     "output_type": "stream",
     "text": [
      "Enter letter Q or q or i won't stop asking for it:   d\n"
     ]
    },
    {
     "name": "stdout",
     "output_type": "stream",
     "text": [
      "Enter Q or q to exit the program: \n"
     ]
    },
    {
     "name": "stdin",
     "output_type": "stream",
     "text": [
      "Enter letter Q or q or i won't stop asking for it:   q\n"
     ]
    },
    {
     "name": "stdout",
     "output_type": "stream",
     "text": [
      "Exiting program!\n"
     ]
    }
   ],
   "source": [
    "for l in iter(int, 1):\n",
    "    letter_input = input(\"Enter letter Q or q or i won't stop asking for it:  \")\n",
    "    if letter_input == \"Q\" or letter_input == \"q\":\n",
    "        print(\"Exiting program!\")\n",
    "        break\n",
    "    else:\n",
    "        print(\"Enter Q or q to exit the program: \")"
   ]
  },
  {
   "cell_type": "code",
   "execution_count": 28,
   "id": "64bd7757-506f-43e4-9e2c-e23fc1d7ecb6",
   "metadata": {},
   "outputs": [
    {
     "name": "stdout",
     "output_type": "stream",
     "text": [
      "1\n",
      "2\n",
      "4\n",
      "5\n",
      "7\n",
      "8\n",
      "10\n",
      "11\n",
      "13\n",
      "14\n",
      "16\n",
      "17\n",
      "19\n",
      "20\n",
      "22\n",
      "23\n",
      "25\n",
      "26\n",
      "28\n",
      "29\n",
      "31\n",
      "32\n",
      "34\n",
      "35\n",
      "37\n",
      "38\n",
      "40\n",
      "41\n",
      "43\n",
      "44\n",
      "46\n",
      "47\n",
      "49\n",
      "50\n"
     ]
    }
   ],
   "source": [
    "for num in range(1, 51): \n",
    "    if num % 3 == 0:      \n",
    "        continue          \n",
    "    print(num)           "
   ]
  },
  {
   "cell_type": "code",
   "execution_count": 29,
   "id": "7eea571e-c757-4f20-a33d-fc7c55e2fc24",
   "metadata": {},
   "outputs": [
    {
     "name": "stdin",
     "output_type": "stream",
     "text": [
      "Enter an integer:  a\n"
     ]
    },
    {
     "name": "stdout",
     "output_type": "stream",
     "text": [
      "Try again. That was not an integer!\n"
     ]
    },
    {
     "name": "stdin",
     "output_type": "stream",
     "text": [
      "Enter an integer:  1\n"
     ]
    },
    {
     "name": "stdout",
     "output_type": "stream",
     "text": [
      "You entered: 1\n"
     ]
    }
   ],
   "source": [
    "while True:\n",
    "    try:\n",
    "        user_input = int(input(\"Enter an integer: \"))\n",
    "        print(f\"You entered: {user_input}\")\n",
    "        break\n",
    "    except ValueError:\n",
    "        print(\"Try again. That was not an integer!\")"
   ]
  },
  {
   "cell_type": "code",
   "execution_count": 31,
   "id": "2e103305-5ae7-4908-8b2a-5099fa39146e",
   "metadata": {},
   "outputs": [
    {
     "name": "stdin",
     "output_type": "stream",
     "text": [
      "Enter a word:  yeah\n",
      "Enter an index number:  3\n"
     ]
    },
    {
     "name": "stdout",
     "output_type": "stream",
     "text": [
      "The character at index 3 is: h\n"
     ]
    }
   ],
   "source": [
    "string_input = input(\"Enter a word: \")\n",
    "n = int(input(\"Enter an index number: \"))\n",
    "\n",
    "if 0 <= n < len(string_input):  # check if index is valid\n",
    "    print(f\"The character at index {n} is: {string_input[n]}\")\n",
    "else:\n",
    "    print(\"Invalid index! Please enter a number within the string length.\")"
   ]
  },
  {
   "cell_type": "code",
   "execution_count": 36,
   "id": "3617c230-fb3c-491a-956c-91385448d73c",
   "metadata": {},
   "outputs": [
    {
     "name": "stdout",
     "output_type": "stream",
     "text": [
      "You rolled: 5\n"
     ]
    }
   ],
   "source": [
    "import random\n",
    "\n",
    "def roll():\n",
    "    return random.randint(1, 6)\n",
    "\n",
    "print(\"You rolled:\", roll())\n"
   ]
  },
  {
   "cell_type": "code",
   "execution_count": 38,
   "id": "27b982db-d918-48e6-bb4d-a6b857a1ebd6",
   "metadata": {},
   "outputs": [
    {
     "name": "stdout",
     "output_type": "stream",
     "text": [
      "The average number rolled is: 3.5074\n"
     ]
    }
   ],
   "source": [
    "from random import randint\n",
    "\n",
    "total = 0\n",
    "\n",
    "for _ in range(10000):\n",
    "    total += randint(1, 6)\n",
    "\n",
    "average = total / 10000\n",
    "print(\"The average number rolled is:\", average)\n"
   ]
  },
  {
   "cell_type": "code",
   "execution_count": null,
   "id": "eb3d159e-1abc-4a9a-b802-c9d75ece7f69",
   "metadata": {},
   "outputs": [],
   "source": []
  }
 ],
 "metadata": {
  "kernelspec": {
   "display_name": "Python [conda env:base] *",
   "language": "python",
   "name": "conda-base-py"
  },
  "language_info": {
   "codemirror_mode": {
    "name": "ipython",
    "version": 3
   },
   "file_extension": ".py",
   "mimetype": "text/x-python",
   "name": "python",
   "nbconvert_exporter": "python",
   "pygments_lexer": "ipython3",
   "version": "3.13.5"
  }
 },
 "nbformat": 4,
 "nbformat_minor": 5
}
