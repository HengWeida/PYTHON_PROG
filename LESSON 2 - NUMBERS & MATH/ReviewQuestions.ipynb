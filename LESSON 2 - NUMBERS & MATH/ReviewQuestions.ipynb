{
 "cells": [
  {
   "cell_type": "code",
   "execution_count": 1,
   "id": "e4b2a3ec-a1c7-4174-b14e-d27e9426191f",
   "metadata": {},
   "outputs": [],
   "source": [
    "num1 = 25000000\n",
    "num2 = 25_000_000"
   ]
  },
  {
   "cell_type": "code",
   "execution_count": 2,
   "id": "03d44305-0571-4717-93bd-aeeb35266436",
   "metadata": {},
   "outputs": [
    {
     "name": "stdout",
     "output_type": "stream",
     "text": [
      "25000000\n",
      "25000000\n"
     ]
    }
   ],
   "source": [
    "print(num1)\n",
    "print(num2)"
   ]
  },
  {
   "cell_type": "code",
   "execution_count": 7,
   "id": "61476676-2c8d-4678-b5fa-ebd1ffdc6a3c",
   "metadata": {},
   "outputs": [
    {
     "name": "stdout",
     "output_type": "stream",
     "text": [
      "175000.0\n"
     ]
    }
   ],
   "source": [
    "num = 1.75e5\n",
    "print(num)"
   ]
  },
  {
   "cell_type": "code",
   "execution_count": 16,
   "id": "1df81d4b-c907-4775-b26f-66600fb43397",
   "metadata": {},
   "outputs": [
    {
     "name": "stdout",
     "output_type": "stream",
     "text": [
      "inf\n"
     ]
    }
   ],
   "source": [
    "print(2e308)"
   ]
  },
  {
   "cell_type": "code",
   "execution_count": 27,
   "id": "3426bcb3-f1d9-4d25-8d75-5d71869c732b",
   "metadata": {},
   "outputs": [
    {
     "name": "stdin",
     "output_type": "stream",
     "text": [
      "Enter a base number:  1.2\n",
      "Enter an exponent number:  3\n"
     ]
    },
    {
     "name": "stdout",
     "output_type": "stream",
     "text": [
      "1.2 to the power of 3.0 = 1.7279999999999998\n"
     ]
    }
   ],
   "source": [
    "num1 = float((input(\"Enter a base number: \")))\n",
    "num2 = float((input(\"Enter an exponent number: \")))\n",
    "result = num1**num2\n",
    "print(str(num1) + \" to the power of \" + str(num2) + \" = \" + str(result))"
   ]
  },
  {
   "cell_type": "code",
   "execution_count": 31,
   "id": "e7e68112-e408-4a3a-b952-9e5ddc12767c",
   "metadata": {
    "scrolled": true
   },
   "outputs": [
    {
     "name": "stdin",
     "output_type": "stream",
     "text": [
      "Enter a number:  5.432\n"
     ]
    },
    {
     "name": "stdout",
     "output_type": "stream",
     "text": [
      "5.432 rounded to 2 places is: 5.43\n"
     ]
    }
   ],
   "source": [
    "num1 = float((input(\"Enter a number: \")))\n",
    "print(str(num1) +\" rounded to 2 places is: \" + str(round(num1,2)))"
   ]
  },
  {
   "cell_type": "code",
   "execution_count": 43,
   "id": "68d21c7c-6afc-43f5-af76-558c6e16d11a",
   "metadata": {},
   "outputs": [
    {
     "name": "stdin",
     "output_type": "stream",
     "text": [
      "Enter a number:  -10\n"
     ]
    },
    {
     "name": "stdout",
     "output_type": "stream",
     "text": [
      "The absolute value of -10.0 is: 10.0\n"
     ]
    }
   ],
   "source": [
    "num1 = float(input(\"Enter a number: \"))\n",
    "print(\"The absolute value of \" + str(num1) + \" is: \" + str(abs(num1)) )"
   ]
  },
  {
   "cell_type": "code",
   "execution_count": 55,
   "id": "00bd4515-c6d7-46f8-877f-caefca48d802",
   "metadata": {},
   "outputs": [
    {
     "name": "stdin",
     "output_type": "stream",
     "text": [
      "Enter a number:  1\n",
      "Eenter another number:  2\n"
     ]
    },
    {
     "name": "stdout",
     "output_type": "stream",
     "text": [
      "The difference between 1.0 and 2.0 is an integer? True!\n"
     ]
    }
   ],
   "source": [
    "num1 = float(input(\"Enter a number: \"))\n",
    "num2 = float(input(\"Eenter another number: \"))\n",
    "result = num1 - num2\n",
    "print(\"The difference between \" + str(num1) + \" and \" + str(num2) + \" is an integer? \" + str(result.is_integer()) + \"!\")"
   ]
  },
  {
   "cell_type": "code",
   "execution_count": 60,
   "id": "364be4eb-3909-4d8f-941e-556b5746ffb4",
   "metadata": {},
   "outputs": [
    {
     "name": "stdout",
     "output_type": "stream",
     "text": [
      "1.147\n"
     ]
    }
   ],
   "source": [
    "num1 = 3**.125\n",
    "print(f\"{num1:.3f}\")"
   ]
  },
  {
   "cell_type": "code",
   "execution_count": 63,
   "id": "c053e8c6-2100-43db-8140-bcc022f71329",
   "metadata": {},
   "outputs": [
    {
     "name": "stdout",
     "output_type": "stream",
     "text": [
      "$150,000.00\n"
     ]
    }
   ],
   "source": [
    "print(f\"${150000:,.2f}\")"
   ]
  },
  {
   "cell_type": "code",
   "execution_count": 65,
   "id": "c9bc467d-231d-43f1-999f-fd5279503c9d",
   "metadata": {},
   "outputs": [
    {
     "name": "stdout",
     "output_type": "stream",
     "text": [
      "20%\n"
     ]
    }
   ],
   "source": [
    "num1 = 2/10\n",
    "print(f\"{num1:.0%}\")"
   ]
  },
  {
   "cell_type": "code",
   "execution_count": null,
   "id": "594706dc-7715-4856-b526-b0027c782172",
   "metadata": {},
   "outputs": [],
   "source": []
  }
 ],
 "metadata": {
  "kernelspec": {
   "display_name": "Python [conda env:base] *",
   "language": "python",
   "name": "conda-base-py"
  },
  "language_info": {
   "codemirror_mode": {
    "name": "ipython",
    "version": 3
   },
   "file_extension": ".py",
   "mimetype": "text/x-python",
   "name": "python",
   "nbconvert_exporter": "python",
   "pygments_lexer": "ipython3",
   "version": "3.13.5"
  }
 },
 "nbformat": 4,
 "nbformat_minor": 5
}
